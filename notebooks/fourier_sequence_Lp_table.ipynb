{
 "cells": [
  {
   "cell_type": "code",
   "execution_count": 25,
   "metadata": {},
   "outputs": [],
   "source": [
    "from bentdna import shapefourier\n",
    "import numpy as np\n",
    "hosts = ['a_tract_21mer', 'gcgc_21mer', 'tgtg_21mer', 'atat_21mer', 'ctct_21mer', 'g_tract_21mer']\n",
    "workfolder = '/home/yizaochen/codes/dna_rna/length_effect/find_helical_axis'"
   ]
  },
  {
   "cell_type": "code",
   "execution_count": 26,
   "metadata": {},
   "outputs": [],
   "source": [
    "def get_nlist_Lplist(df, L, n_begin, n_end):\n",
    "    n_list = list(range(n_begin, n_end+1))\n",
    "    Lp_list = list()\n",
    "    for n in n_list:\n",
    "        var_an = df[str(n)].var()\n",
    "        Lp = np.square(L) / (np.square(n) * np.square(np.pi) * var_an)\n",
    "        Lp_list.append(Lp)\n",
    "    return n_list, Lp_list\n",
    "\n",
    "def print_lp(host, nlist, Lplist, sele_nlist):\n",
    "    print_list = [f'{host}:']\n",
    "    for n, Lp in zip(nlist, Lplist):\n",
    "        if n in sele_nlist:\n",
    "            print_list.append(f'(n={n}, Lp={Lp:.2f})')\n",
    "    print(' '.join(print_list))"
   ]
  },
  {
   "cell_type": "code",
   "execution_count": 27,
   "metadata": {},
   "outputs": [],
   "source": [
    "n_begin = 0\n",
    "n_end = 9\n",
    "sele_nlist = [2, 3]"
   ]
  },
  {
   "cell_type": "code",
   "execution_count": 28,
   "metadata": {},
   "outputs": [
    {
     "name": "stdout",
     "output_type": "stream",
     "text": [
      "/home/yizaochen/codes/dna_rna/length_effect/find_helical_axis/a_tract_21mer/an_folder exists\n",
      "a_tract_21mer: (n=2, Lp=74.80) (n=3, Lp=69.05)\n",
      "/home/yizaochen/codes/dna_rna/length_effect/find_helical_axis/gcgc_21mer/an_folder exists\n",
      "gcgc_21mer: (n=2, Lp=64.08) (n=3, Lp=51.57)\n",
      "/home/yizaochen/codes/dna_rna/length_effect/find_helical_axis/tgtg_21mer/an_folder exists\n",
      "tgtg_21mer: (n=2, Lp=55.57) (n=3, Lp=48.62)\n",
      "/home/yizaochen/codes/dna_rna/length_effect/find_helical_axis/atat_21mer/an_folder exists\n",
      "atat_21mer: (n=2, Lp=54.97) (n=3, Lp=51.70)\n",
      "/home/yizaochen/codes/dna_rna/length_effect/find_helical_axis/ctct_21mer/an_folder exists\n",
      "ctct_21mer: (n=2, Lp=53.63) (n=3, Lp=44.85)\n",
      "/home/yizaochen/codes/dna_rna/length_effect/find_helical_axis/g_tract_21mer/an_folder exists\n",
      "g_tract_21mer: (n=2, Lp=49.55) (n=3, Lp=45.14)\n"
     ]
    },
    {
     "name": "stderr",
     "output_type": "stream",
     "text": [
      "<ipython-input-26-3b123b7be451>:6: RuntimeWarning: divide by zero encountered in double_scalars\n",
      "  Lp = np.square(L) / (np.square(n) * np.square(np.pi) * var_an)\n"
     ]
    }
   ],
   "source": [
    "for host in hosts:\n",
    "    s_agent = shapefourier.ShapeAgent(workfolder, host)\n",
    "    df_an = s_agent.read_df_an(n_begin, n_end)\n",
    "    L = s_agent.get_appr_L()\n",
    "    nlist, Lplist = get_nlist_Lplist(df_an, L, n_begin, n_end)\n",
    "    print_lp(host, nlist, Lplist, sele_nlist)"
   ]
  },
  {
   "cell_type": "code",
   "execution_count": null,
   "metadata": {},
   "outputs": [],
   "source": []
  }
 ],
 "metadata": {
  "kernelspec": {
   "display_name": "Python 3",
   "language": "python",
   "name": "python3"
  },
  "language_info": {
   "codemirror_mode": {
    "name": "ipython",
    "version": 3
   },
   "file_extension": ".py",
   "mimetype": "text/x-python",
   "name": "python",
   "nbconvert_exporter": "python",
   "pygments_lexer": "ipython3",
   "version": "3.8.5"
  }
 },
 "nbformat": 4,
 "nbformat_minor": 4
}

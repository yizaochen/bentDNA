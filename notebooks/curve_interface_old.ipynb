{
 "cells": [
  {
   "cell_type": "code",
   "execution_count": 1,
   "metadata": {},
   "outputs": [],
   "source": [
    "from os import path, system\n",
    "from find_haxis_curve import FindHelixAgent, PrepareHelix"
   ]
  },
  {
   "cell_type": "markdown",
   "metadata": {},
   "source": [
    "### Part 1: Prepare Required file"
   ]
  },
  {
   "cell_type": "code",
   "execution_count": 11,
   "metadata": {},
   "outputs": [
    {
     "name": "stdout",
     "output_type": "stream",
     "text": [
      "/home/yizaochen/codes/dna_rna/length_effect/find_helical_axis/mgcl2_150mm/input exists\n",
      "/home/yizaochen/codes/dna_rna/length_effect/find_helical_axis/mgcl2_150mm/output exists\n",
      "cd /home/yizaochen/codes/dna_rna/length_effect/find_helical_axis/mgcl2_150mm\n"
     ]
    }
   ],
   "source": [
    "host = 'mgcl2_150mm'\n",
    "n_bp = 16\n",
    "\n",
    "prep_helix = PrepareHelix(host, n_bp)\n",
    "print(f'cd {prep_helix.workfolder}')"
   ]
  },
  {
   "cell_type": "code",
   "execution_count": 25,
   "metadata": {},
   "outputs": [
    {
     "name": "stdout",
     "output_type": "stream",
     "text": [
      "cp /home/yizaochen/codes/dna_rna/all_systems/mgcl2_150mm/bdna+bdna/input/allatoms/bdna+bdna.all.xtc /home/yizaochen/codes/dna_rna/length_effect/find_helical_axis/mgcl2_150mm/input/bdna+bdna.all.xtc\n",
      "cp /home/yizaochen/codes/dna_rna/all_systems/mgcl2_150mm/bdna+bdna/input/allatoms/bdna+bdna.npt4.all.pdb /home/yizaochen/codes/dna_rna/length_effect/find_helical_axis/mgcl2_150mm/input/bdna+bdna.npt4.all.pdb\n",
      "cp /home/yizaochen/codes/dna_rna/length_effect/find_helical_axis/mgcl2_150mm/input/bdna+bdna.npt4.all.pdb /home/yizaochen/codes/dna_rna/length_effect/find_helical_axis/mgcl2_150mm/input/bdna_modi.pdb\n"
     ]
    }
   ],
   "source": [
    "prep_helix.copy_input_xtc()\n",
    "prep_helix.copy_input_pdb()\n",
    "prep_helix.copy_pdb_to_pdbmodi()"
   ]
  },
  {
   "cell_type": "markdown",
   "metadata": {},
   "source": [
    "### Part 2: Convert xtc to dcd"
   ]
  },
  {
   "cell_type": "code",
   "execution_count": 26,
   "metadata": {},
   "outputs": [
    {
     "name": "stdout",
     "output_type": "stream",
     "text": [
      "vmd -pdb /home/yizaochen/codes/dna_rna/length_effect/find_helical_axis/mgcl2_150mm/input/bdna+bdna.npt4.all.pdb /home/yizaochen/codes/dna_rna/length_effect/find_helical_axis/mgcl2_150mm/input/bdna+bdna.all.xtc\n",
      "\n",
      "In vmd tkconsole...\n",
      "animate write dcd /home/yizaochen/codes/dna_rna/length_effect/find_helical_axis/mgcl2_150mm/input/bdna+bdna.0_1000ns.10000frames.dcd beg 1 end 10001 waitfor all\n",
      "animate write dcd /home/yizaochen/codes/dna_rna/length_effect/find_helical_axis/mgcl2_150mm/input/bdna+bdna.0_1ns.10frames.dcd beg 1 end 10 waitfor all\n"
     ]
    }
   ],
   "source": [
    "cmd = f'vmd -pdb {prep_helix.pdb_in} {prep_helix.xtc_in}'\n",
    "print(cmd)\n",
    "\n",
    "print('\\nIn vmd tkconsole...')\n",
    "cmd = f'animate write dcd {prep_helix.dcd_out} beg 1 end {prep_helix.lastframe+1} waitfor all'\n",
    "print(cmd)\n",
    "\n",
    "cmd = f'animate write dcd {prep_helix.dcd_out_test} beg 1 end 10 waitfor all'\n",
    "print(cmd)"
   ]
  },
  {
   "cell_type": "markdown",
   "metadata": {},
   "source": [
    "### Part 3: Change antisense strand resid"
   ]
  },
  {
   "cell_type": "code",
   "execution_count": 27,
   "metadata": {},
   "outputs": [
    {
     "name": "stdout",
     "output_type": "stream",
     "text": [
      "vim /home/yizaochen/codes/dna_rna/length_effect/find_helical_axis/mgcl2_150mm/input/bdna+bdna.npt4.all.pdb\n"
     ]
    }
   ],
   "source": [
    "# check pdb, to see whether require to change resid\n",
    "cmd = f'vim {prep_helix.pdb_in}'\n",
    "print(cmd)"
   ]
  },
  {
   "cell_type": "code",
   "execution_count": 28,
   "metadata": {},
   "outputs": [
    {
     "name": "stdout",
     "output_type": "stream",
     "text": [
      "Write PDB: /home/yizaochen/codes/dna_rna/length_effect/find_helical_axis/mgcl2_150mm/input/bdna_modi.pdb\n"
     ]
    }
   ],
   "source": [
    "change = True # True or False\n",
    "if change:\n",
    "    prep_helix.change_resid_to_modi()"
   ]
  },
  {
   "cell_type": "markdown",
   "metadata": {},
   "source": [
    "### Part 4: Initialize FindHelixAgent"
   ]
  },
  {
   "cell_type": "code",
   "execution_count": 29,
   "metadata": {},
   "outputs": [
    {
     "name": "stdout",
     "output_type": "stream",
     "text": [
      "mkdir /home/yizaochen/codes/dna_rna/length_effect/find_helical_axis/mgcl2_150mm/pdbs_allatoms\n",
      "mkdir /home/yizaochen/codes/dna_rna/length_effect/find_helical_axis/mgcl2_150mm/curve_workdir_0_10\n",
      "mkdir /home/yizaochen/codes/dna_rna/length_effect/find_helical_axis/mgcl2_150mm/pdbs_haxis\n",
      "There are 10 frames.\n"
     ]
    }
   ],
   "source": [
    "f_agent = FindHelixAgent(prep_helix.workfolder, prep_helix.pdb_modi, prep_helix.dcd_out_test, n_bp)"
   ]
  },
  {
   "cell_type": "markdown",
   "metadata": {},
   "source": [
    "### Part 5: Extract single pdb from dcd"
   ]
  },
  {
   "cell_type": "code",
   "execution_count": 30,
   "metadata": {},
   "outputs": [],
   "source": [
    "f_agent.extract_pdb_allatoms()"
   ]
  },
  {
   "cell_type": "markdown",
   "metadata": {},
   "source": [
    "### Part 6: Execute Curve+ and Convert to H-axis pdb"
   ]
  },
  {
   "cell_type": "code",
   "execution_count": 31,
   "metadata": {},
   "outputs": [
    {
     "name": "stdout",
     "output_type": "stream",
     "text": [
      "Write PDB: /home/yizaochen/codes/dna_rna/length_effect/find_helical_axis/mgcl2_150mm/pdbs_haxis/haxis.0.pdb\n",
      "Write PDB: /home/yizaochen/codes/dna_rna/length_effect/find_helical_axis/mgcl2_150mm/pdbs_haxis/haxis.1.pdb\n",
      "Write PDB: /home/yizaochen/codes/dna_rna/length_effect/find_helical_axis/mgcl2_150mm/pdbs_haxis/haxis.2.pdb\n",
      "Write PDB: /home/yizaochen/codes/dna_rna/length_effect/find_helical_axis/mgcl2_150mm/pdbs_haxis/haxis.3.pdb\n",
      "Write PDB: /home/yizaochen/codes/dna_rna/length_effect/find_helical_axis/mgcl2_150mm/pdbs_haxis/haxis.4.pdb\n",
      "Write PDB: /home/yizaochen/codes/dna_rna/length_effect/find_helical_axis/mgcl2_150mm/pdbs_haxis/haxis.5.pdb\n",
      "Write PDB: /home/yizaochen/codes/dna_rna/length_effect/find_helical_axis/mgcl2_150mm/pdbs_haxis/haxis.6.pdb\n",
      "Write PDB: /home/yizaochen/codes/dna_rna/length_effect/find_helical_axis/mgcl2_150mm/pdbs_haxis/haxis.7.pdb\n",
      "Write PDB: /home/yizaochen/codes/dna_rna/length_effect/find_helical_axis/mgcl2_150mm/pdbs_haxis/haxis.8.pdb\n",
      "Write PDB: /home/yizaochen/codes/dna_rna/length_effect/find_helical_axis/mgcl2_150mm/pdbs_haxis/haxis.9.pdb\n"
     ]
    }
   ],
   "source": [
    "f_agent.curveplus_find_haxis()"
   ]
  },
  {
   "cell_type": "markdown",
   "metadata": {},
   "source": [
    "### Part 7: Test, Use VMD to show"
   ]
  },
  {
   "cell_type": "code",
   "execution_count": 32,
   "metadata": {},
   "outputs": [
    {
     "name": "stdout",
     "output_type": "stream",
     "text": [
      "cd /home/yizaochen/codes/dna_rna/length_effect/find_helical_axis/mgcl2_150mm/pdbs_haxis\n",
      "vmd\n",
      "source /home/yizaochen/codes/na_mechanics/make_haxis.tcl\n",
      "read_all_pdb_files 0 9\n",
      "animate write dcd /home/yizaochen/codes/dna_rna/length_effect/find_helical_axis/mgcl2_150mm/output/haxis.dcd beg 0 end 9 waitfor all\n"
     ]
    }
   ],
   "source": [
    "haxis_folder = path.join(prep_helix.workfolder, 'pdbs_haxis')\n",
    "cmd = f'cd {haxis_folder}'\n",
    "print(cmd)\n",
    "\n",
    "cmd = 'vmd'\n",
    "print(cmd)\n",
    "\n",
    "haxis_tcl = '/home/yizaochen/codes/na_mechanics/make_haxis.tcl'\n",
    "cmd = f'source {haxis_tcl}'\n",
    "print(cmd)\n",
    "\n",
    "start = 0\n",
    "end = 9\n",
    "cmd = f'read_all_pdb_files {start} {end}'\n",
    "print(cmd)\n",
    "\n",
    "haxis_dcd = path.join(prep_helix.output_folder, 'haxis.dcd')\n",
    "cmd = f'animate write dcd {haxis_dcd} beg {start} end {end} waitfor all'\n",
    "print(cmd)"
   ]
  },
  {
   "cell_type": "code",
   "execution_count": 33,
   "metadata": {},
   "outputs": [
    {
     "name": "stdout",
     "output_type": "stream",
     "text": [
      "vmd -pdb /home/yizaochen/codes/dna_rna/length_effect/find_helical_axis/mgcl2_150mm/pdbs_haxis/haxis.0.pdb /home/yizaochen/codes/dna_rna/length_effect/find_helical_axis/mgcl2_150mm/output/haxis.dcd\n",
      "mol new /home/yizaochen/codes/dna_rna/length_effect/find_helical_axis/mgcl2_150mm/input/bdna_modi.pdb\n",
      "mol addfile /home/yizaochen/codes/dna_rna/length_effect/find_helical_axis/mgcl2_150mm/input/bdna+bdna.0_1ns.10frames.dcd 1\n"
     ]
    }
   ],
   "source": [
    "pdb_ref = path.join(prep_helix.workfolder, 'pdbs_haxis', 'haxis.0.pdb')\n",
    "cmd = f'vmd -pdb {pdb_ref} {haxis_dcd}'\n",
    "print(cmd)\n",
    "\n",
    "cmd = f'mol new {prep_helix.pdb_modi}'\n",
    "print(cmd)\n",
    "\n",
    "cmd = f'mol addfile {prep_helix.dcd_out_test} 1'  \n",
    "print(cmd)"
   ]
  },
  {
   "cell_type": "markdown",
   "metadata": {},
   "source": [
    "### Part 8: After Curve+, Use VMD to show"
   ]
  },
  {
   "cell_type": "code",
   "execution_count": 12,
   "metadata": {},
   "outputs": [
    {
     "name": "stdout",
     "output_type": "stream",
     "text": [
      "cd /home/yizaochen/codes/dna_rna/length_effect/find_helical_axis/mgcl2_150mm/pdbs_haxis\n",
      "vmd\n",
      "source /home/yizaochen/codes/na_mechanics/make_haxis.tcl\n",
      "read_all_pdb_files 0 10000\n",
      "animate write dcd /home/yizaochen/codes/dna_rna/length_effect/find_helical_axis/mgcl2_150mm/output/haxis.dcd beg 0 end 10000 waitfor all\n"
     ]
    }
   ],
   "source": [
    "haxis_folder = path.join(prep_helix.workfolder, 'pdbs_haxis')\n",
    "cmd = f'cd {haxis_folder}'\n",
    "print(cmd)\n",
    "\n",
    "cmd = 'vmd'\n",
    "print(cmd)\n",
    "\n",
    "haxis_tcl = '/home/yizaochen/codes/na_mechanics/make_haxis.tcl'\n",
    "cmd = f'source {haxis_tcl}'\n",
    "print(cmd)\n",
    "\n",
    "start = 0\n",
    "end = prep_helix.lastframe\n",
    "cmd = f'read_all_pdb_files {start} {end}'\n",
    "print(cmd)\n",
    "\n",
    "haxis_dcd = path.join(prep_helix.output_folder, 'haxis.dcd')\n",
    "cmd = f'animate write dcd {haxis_dcd} beg {start} end {end} waitfor all'\n",
    "print(cmd)"
   ]
  },
  {
   "cell_type": "code",
   "execution_count": 14,
   "metadata": {},
   "outputs": [
    {
     "name": "stdout",
     "output_type": "stream",
     "text": [
      "vmd -pdb /home/yizaochen/codes/dna_rna/length_effect/find_helical_axis/mgcl2_150mm/pdbs_haxis/haxis.0.pdb /home/yizaochen/codes/dna_rna/length_effect/find_helical_axis/mgcl2_150mm/output/haxis.dcd\n",
      "mol new /home/yizaochen/codes/dna_rna/length_effect/find_helical_axis/mgcl2_150mm/input/bdna_modi.pdb\n",
      "mol addfile /home/yizaochen/codes/dna_rna/length_effect/find_helical_axis/mgcl2_150mm/input/bdna+bdna.0_1000ns.10000frames.dcd 1 waitfor 1\n"
     ]
    }
   ],
   "source": [
    "pdb_ref = path.join(prep_helix.workfolder, 'pdbs_haxis', 'haxis.0.pdb')\n",
    "cmd = f'vmd -pdb {pdb_ref} {haxis_dcd}'\n",
    "print(cmd)\n",
    "\n",
    "cmd = f'mol new {prep_helix.pdb_modi}'\n",
    "print(cmd)\n",
    "\n",
    "cmd = f'mol addfile {prep_helix.dcd_out} 1 waitfor 1'  \n",
    "print(cmd)"
   ]
  },
  {
   "cell_type": "markdown",
   "metadata": {},
   "source": [
    "### Useful commands"
   ]
  },
  {
   "cell_type": "markdown",
   "metadata": {},
   "source": [
    "- cat 0.pdb | grep 'ATOM      1'"
   ]
  }
 ],
 "metadata": {
  "kernelspec": {
   "display_name": "Python 3",
   "language": "python",
   "name": "python3"
  },
  "language_info": {
   "codemirror_mode": {
    "name": "ipython",
    "version": 3
   },
   "file_extension": ".py",
   "mimetype": "text/x-python",
   "name": "python",
   "nbconvert_exporter": "python",
   "pygments_lexer": "ipython3",
   "version": "3.8.5"
  }
 },
 "nbformat": 4,
 "nbformat_minor": 4
}

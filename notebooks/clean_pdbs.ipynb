{
 "cells": [
  {
   "cell_type": "code",
   "execution_count": 1,
   "metadata": {},
   "outputs": [],
   "source": [
    "from os import path, system\n",
    "from bentdna.find_haxis_curve import PrepareHelix"
   ]
  },
  {
   "cell_type": "markdown",
   "metadata": {},
   "source": [
    "### Part 0: Initialize"
   ]
  },
  {
   "cell_type": "code",
   "execution_count": 8,
   "metadata": {},
   "outputs": [
    {
     "name": "stdout",
     "output_type": "stream",
     "text": [
      "/home/yizaochen/codes/dna_rna/length_effect/find_helical_axis/mgcl2_150mm/input exists\n",
      "/home/yizaochen/codes/dna_rna/length_effect/find_helical_axis/mgcl2_150mm/output exists\n",
      "cd /home/yizaochen/codes/dna_rna/length_effect/find_helical_axis/mgcl2_150mm\n"
     ]
    }
   ],
   "source": [
    "host = 'mgcl2_150mm'\n",
    "n_bp = 16\n",
    "\n",
    "prep_helix = PrepareHelix(host, n_bp)\n",
    "print(f'cd {prep_helix.workfolder}')"
   ]
  },
  {
   "cell_type": "markdown",
   "metadata": {},
   "source": [
    "### Part 1: Move haxis.0.pdb to output folder"
   ]
  },
  {
   "cell_type": "code",
   "execution_count": 9,
   "metadata": {},
   "outputs": [
    {
     "name": "stdout",
     "output_type": "stream",
     "text": [
      "mv /home/yizaochen/codes/dna_rna/length_effect/find_helical_axis/mgcl2_150mm/pdbs_haxis/haxis.0.pdb /home/yizaochen/codes/dna_rna/length_effect/find_helical_axis/mgcl2_150mm/output/haxis.0.pdb\n"
     ]
    }
   ],
   "source": [
    "prep_helix.move_h0pdb_to_outfolder()"
   ]
  },
  {
   "cell_type": "markdown",
   "metadata": {},
   "source": [
    "### Part 2: rm allatom_pdb and haxis.pdb"
   ]
  },
  {
   "cell_type": "code",
   "execution_count": 25,
   "metadata": {},
   "outputs": [
    {
     "name": "stdout",
     "output_type": "stream",
     "text": [
      "rm /home/yizaochen/codes/dna_rna/length_effect/find_helical_axis/tgtg_21mer/pdbs_allatoms/*\n",
      "rm /home/yizaochen/codes/dna_rna/length_effect/find_helical_axis/tgtg_21mer/pdbs_haxis/*\n"
     ]
    }
   ],
   "source": [
    "rm_all = False\n",
    "\n",
    "if rm_all:\n",
    "    allpdbs = path.join(prep_helix.workfolder, 'pdbs_allatoms', '*')\n",
    "    cmd = f'rm {allpdbs}'\n",
    "    system(cmd)\n",
    "    print(cmd)\n",
    "    \n",
    "    h_pdbs = path.join(prep_helix.workfolder, 'pdbs_haxis', '*')\n",
    "    cmd = f'rm {h_pdbs}'\n",
    "    system(cmd)\n",
    "    print(cmd)"
   ]
  },
  {
   "cell_type": "code",
   "execution_count": null,
   "metadata": {},
   "outputs": [],
   "source": []
  }
 ],
 "metadata": {
  "kernelspec": {
   "display_name": "Python 3",
   "language": "python",
   "name": "python3"
  },
  "language_info": {
   "codemirror_mode": {
    "name": "ipython",
    "version": 3
   },
   "file_extension": ".py",
   "mimetype": "text/x-python",
   "name": "python",
   "nbconvert_exporter": "python",
   "pygments_lexer": "ipython3",
   "version": "3.8.5"
  }
 },
 "nbformat": 4,
 "nbformat_minor": 4
}

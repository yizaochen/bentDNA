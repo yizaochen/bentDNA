{
 "cells": [
  {
   "cell_type": "code",
   "execution_count": 10,
   "metadata": {},
   "outputs": [],
   "source": [
    "from os import path\n",
    "import numpy as np\n",
    "import matplotlib.pyplot as plt\n",
    "from bentdna import shapefourier\n",
    "workfolder = '/home/yizaochen/codes/dna_rna/length_effect/find_helical_axis'"
   ]
  },
  {
   "cell_type": "code",
   "execution_count": 33,
   "metadata": {},
   "outputs": [],
   "source": [
    "from sklearn.linear_model import LinearRegression\n",
    "from sklearn.metrics import mean_squared_error, r2_score\n",
    "from sklearn.preprocessing import PolynomialFeatures\n",
    "from sklearn.pipeline import make_pipeline"
   ]
  },
  {
   "cell_type": "markdown",
   "metadata": {},
   "source": [
    "### Part 1: Initialize"
   ]
  },
  {
   "cell_type": "code",
   "execution_count": 11,
   "metadata": {},
   "outputs": [
    {
     "name": "stdout",
     "output_type": "stream",
     "text": [
      "/home/yizaochen/codes/dna_rna/length_effect/find_helical_axis/a_tract_21mer/an_folder exists\n"
     ]
    }
   ],
   "source": [
    "n_begin = 0\n",
    "n_end = 9\n",
    "host = 'a_tract_21mer'\n",
    "\n",
    "s_agent = shapefourier.ShapeAgent(workfolder, host)\n",
    "df_an = s_agent.read_df_an(n_begin, n_end)"
   ]
  },
  {
   "cell_type": "code",
   "execution_count": 14,
   "metadata": {},
   "outputs": [
    {
     "data": {
      "text/html": [
       "<div>\n",
       "<style scoped>\n",
       "    .dataframe tbody tr th:only-of-type {\n",
       "        vertical-align: middle;\n",
       "    }\n",
       "\n",
       "    .dataframe tbody tr th {\n",
       "        vertical-align: top;\n",
       "    }\n",
       "\n",
       "    .dataframe thead th {\n",
       "        text-align: right;\n",
       "    }\n",
       "</style>\n",
       "<table border=\"1\" class=\"dataframe\">\n",
       "  <thead>\n",
       "    <tr style=\"text-align: right;\">\n",
       "      <th></th>\n",
       "      <th>0</th>\n",
       "      <th>1</th>\n",
       "      <th>2</th>\n",
       "      <th>3</th>\n",
       "      <th>4</th>\n",
       "      <th>5</th>\n",
       "      <th>6</th>\n",
       "      <th>7</th>\n",
       "      <th>8</th>\n",
       "      <th>9</th>\n",
       "    </tr>\n",
       "  </thead>\n",
       "  <tbody>\n",
       "    <tr>\n",
       "      <th>0</th>\n",
       "      <td>0.472659</td>\n",
       "      <td>-0.082037</td>\n",
       "      <td>-0.083300</td>\n",
       "      <td>-0.060492</td>\n",
       "      <td>-0.014238</td>\n",
       "      <td>0.032104</td>\n",
       "      <td>0.011171</td>\n",
       "      <td>0.012139</td>\n",
       "      <td>-0.010040</td>\n",
       "      <td>-0.012814</td>\n",
       "    </tr>\n",
       "    <tr>\n",
       "      <th>1</th>\n",
       "      <td>0.372355</td>\n",
       "      <td>-0.112163</td>\n",
       "      <td>0.070121</td>\n",
       "      <td>0.000105</td>\n",
       "      <td>0.009575</td>\n",
       "      <td>-0.049337</td>\n",
       "      <td>-0.007295</td>\n",
       "      <td>-0.019887</td>\n",
       "      <td>0.004396</td>\n",
       "      <td>-0.003486</td>\n",
       "    </tr>\n",
       "    <tr>\n",
       "      <th>2</th>\n",
       "      <td>0.562723</td>\n",
       "      <td>-0.116956</td>\n",
       "      <td>0.093044</td>\n",
       "      <td>-0.038627</td>\n",
       "      <td>-0.073007</td>\n",
       "      <td>-0.068122</td>\n",
       "      <td>0.020503</td>\n",
       "      <td>-0.021716</td>\n",
       "      <td>-0.007891</td>\n",
       "      <td>0.001465</td>\n",
       "    </tr>\n",
       "    <tr>\n",
       "      <th>3</th>\n",
       "      <td>0.428166</td>\n",
       "      <td>-0.167618</td>\n",
       "      <td>0.008348</td>\n",
       "      <td>0.021849</td>\n",
       "      <td>0.051480</td>\n",
       "      <td>-0.028985</td>\n",
       "      <td>-0.002691</td>\n",
       "      <td>-0.012772</td>\n",
       "      <td>-0.000884</td>\n",
       "      <td>-0.002050</td>\n",
       "    </tr>\n",
       "    <tr>\n",
       "      <th>4</th>\n",
       "      <td>0.471383</td>\n",
       "      <td>-0.037604</td>\n",
       "      <td>0.005544</td>\n",
       "      <td>-0.060761</td>\n",
       "      <td>0.010258</td>\n",
       "      <td>-0.017149</td>\n",
       "      <td>0.031898</td>\n",
       "      <td>-0.010619</td>\n",
       "      <td>-0.001598</td>\n",
       "      <td>0.004935</td>\n",
       "    </tr>\n",
       "  </tbody>\n",
       "</table>\n",
       "</div>"
      ],
      "text/plain": [
       "          0         1         2         3         4         5         6  \\\n",
       "0  0.472659 -0.082037 -0.083300 -0.060492 -0.014238  0.032104  0.011171   \n",
       "1  0.372355 -0.112163  0.070121  0.000105  0.009575 -0.049337 -0.007295   \n",
       "2  0.562723 -0.116956  0.093044 -0.038627 -0.073007 -0.068122  0.020503   \n",
       "3  0.428166 -0.167618  0.008348  0.021849  0.051480 -0.028985 -0.002691   \n",
       "4  0.471383 -0.037604  0.005544 -0.060761  0.010258 -0.017149  0.031898   \n",
       "\n",
       "          7         8         9  \n",
       "0  0.012139 -0.010040 -0.012814  \n",
       "1 -0.019887  0.004396 -0.003486  \n",
       "2 -0.021716 -0.007891  0.001465  \n",
       "3 -0.012772 -0.000884 -0.002050  \n",
       "4 -0.010619 -0.001598  0.004935  "
      ]
     },
     "execution_count": 14,
     "metadata": {},
     "output_type": "execute_result"
    }
   ],
   "source": [
    "df_an.head(5)"
   ]
  },
  {
   "cell_type": "markdown",
   "metadata": {},
   "source": [
    "### Part 2: Get nlist and $\\mathrm{Var}(a_n)$ and $(\\frac{1}{n})^2$"
   ]
  },
  {
   "cell_type": "code",
   "execution_count": 51,
   "metadata": {},
   "outputs": [],
   "source": [
    "def get_an_by_n(df, n):\n",
    "    key = str(n)\n",
    "    return df[key].var()"
   ]
  },
  {
   "cell_type": "code",
   "execution_count": 50,
   "metadata": {},
   "outputs": [],
   "source": [
    "nlist = range(1, 10)\n",
    "var_list = list()\n",
    "for n in nlist:\n",
    "    var_list.append(get_an_by_n(df_an, n))"
   ]
  },
  {
   "cell_type": "code",
   "execution_count": 52,
   "metadata": {},
   "outputs": [],
   "source": [
    "x_all = np.array([1/n for n in nlist])\n",
    "x_all = np.square(x_all)\n",
    "y_all = var_list"
   ]
  },
  {
   "cell_type": "markdown",
   "metadata": {},
   "source": [
    "### Part 4: First plot to observe"
   ]
  },
  {
   "cell_type": "code",
   "execution_count": 53,
   "metadata": {},
   "outputs": [
    {
     "data": {
      "image/png": "[encoded data removed]",
      "text/plain": [
       "<Figure size 1152x288 with 2 Axes>"
      ]
     },
     "metadata": {
      "needs_background": "light"
     },
     "output_type": "display_data"
    }
   ],
   "source": [
    "fig, axes = plt.subplots(nrows=1, ncols=2, figsize=(16,4))\n",
    "\n",
    "ax = axes[0]\n",
    "ax.scatter(nlist, var_list)\n",
    "ax.set_xlabel('n', fontsize=12)\n",
    "ax.set_ylabel('Var($a_n$)', fontsize=12)\n",
    "ax.set_title(host, fontsize=14)\n",
    "\n",
    "ax = axes[1]\n",
    "ax.scatter(x_all, y_all)\n",
    "ax.set_xlabel('$(1/n)^2$', fontsize=12)\n",
    "ax.set_ylabel('Var($a_n$)', fontsize=12)\n",
    "plt.show()"
   ]
  },
  {
   "cell_type": "markdown",
   "metadata": {},
   "source": [
    "### Part: Set X and Y for select n"
   ]
  },
  {
   "cell_type": "code",
   "execution_count": 60,
   "metadata": {},
   "outputs": [],
   "source": [
    "select_nlist = [2, 3, 4] # Ad hoc\n",
    "\n",
    "x = np.array([1/n for n in select_nlist])\n",
    "x = np.square(x)\n",
    "y = [get_an_by_n(df_an, n) for n in select_nlist]\n",
    "\n",
    "X = np.matrix(x).reshape(len(x), 1)\n",
    "Y = np.matrix(y).reshape(len(y), 1)\n",
    "\n",
    "X_all = np.matrix(x_all).reshape(len(x_all), 1)\n",
    "Y_all = np.matrix(y_all).reshape(len(y_all), 1)"
   ]
  },
  {
   "cell_type": "markdown",
   "metadata": {},
   "source": [
    "### Part 5: Start to do regression, for $y=ax$, where $x=(\\frac{1}{n})^2$"
   ]
  },
  {
   "cell_type": "code",
   "execution_count": 61,
   "metadata": {},
   "outputs": [],
   "source": [
    "# Create linear regression object\n",
    "regr = LinearRegression()\n",
    "\n",
    "# Do Best fitting\n",
    "regr.fit(X, Y)\n",
    "\n",
    "# Make predictions using the testing set\n",
    "y_pred = regr.predict(X_all)"
   ]
  },
  {
   "cell_type": "code",
   "execution_count": 67,
   "metadata": {},
   "outputs": [
    {
     "name": "stdout",
     "output_type": "stream",
     "text": [
      "Coefficients: \n",
      " [[0.03093448]]\n",
      "Mean squared error: 0.00\n",
      "Coefficient of determination: 0.33\n"
     ]
    }
   ],
   "source": [
    "# The coefficients\n",
    "a = regr.coef_[0][0]\n",
    "print('Coefficients: \\n', regr.coef_)\n",
    "# The mean squared error\n",
    "print('Mean squared error: %.2f'\n",
    "      % mean_squared_error(Y_all, y_pred))\n",
    "# The coefficient of determination: 1 is perfect prediction\n",
    "print('Coefficient of determination: %.2f'\n",
    "      % r2_score(Y_all, y_pred))"
   ]
  },
  {
   "cell_type": "code",
   "execution_count": 66,
   "metadata": {},
   "outputs": [
    {
     "data": {
      "image/png": "[encoded data removed]",
      "text/plain": [
       "<Figure size 576x288 with 1 Axes>"
      ]
     },
     "metadata": {
      "needs_background": "light"
     },
     "output_type": "display_data"
    }
   ],
   "source": [
    "fig, ax = plt.subplots(nrows=1, ncols=1, figsize=(8,4))\n",
    "ax.scatter(x_all, y_all,  color='black')\n",
    "ax.plot(x_all, y_pred, color='blue', linewidth=3)\n",
    "ax.plot(x, y, 'x', color='red')\n",
    "ax.set_xlabel('$(1/n)^2$', fontsize=12)\n",
    "ax.set_ylabel('Var($a_n$)', fontsize=12)\n",
    "plt.show()"
   ]
  },
  {
   "cell_type": "markdown",
   "metadata": {},
   "source": [
    "### Part : After fitting, Var($a_n$) vs $n$"
   ]
  },
  {
   "cell_type": "code",
   "execution_count": 71,
   "metadata": {},
   "outputs": [
    {
     "data": {
      "text/plain": [
       "array([[0.03093882],\n",
       "       [0.00773796],\n",
       "       [0.00344151],\n",
       "       [0.00193775],\n",
       "       [0.00124172],\n",
       "       [0.00086363],\n",
       "       [0.00063566],\n",
       "       [0.00048769],\n",
       "       [0.00038625]])"
      ]
     },
     "execution_count": 71,
     "metadata": {},
     "output_type": "execute_result"
    }
   ],
   "source": [
    "y_pred"
   ]
  },
  {
   "cell_type": "code",
   "execution_count": 74,
   "metadata": {},
   "outputs": [
    {
     "data": {
      "image/png": "[encoded data removed]",
      "text/plain": [
       "<Figure size 576x288 with 1 Axes>"
      ]
     },
     "metadata": {
      "needs_background": "light"
     },
     "output_type": "display_data"
    }
   ],
   "source": [
    "fig, ax = plt.subplots(nrows=1, ncols=1, figsize=(8,4))\n",
    "\n",
    "ax.scatter(nlist, var_list)\n",
    "ax.plot(nlist, y_pred, '--', color='blue', alpha=0.6)\n",
    "ax.plot(x, y, 'x', color='red')\n",
    "ax.set_xlabel('n', fontsize=12)\n",
    "ax.set_ylabel('Var($a_n$)', fontsize=12)\n",
    "ax.set_title(host, fontsize=14)\n",
    "\n",
    "plt.show()"
   ]
  },
  {
   "cell_type": "markdown",
   "metadata": {},
   "source": [
    "#### Reference: \n",
    "- https://towardsdatascience.com/polynomial-regression-bbe8b9d97491  \n",
    "- https://stackoverflow.com/questions/34373606/scikit-learn-coefficients-polynomialfeatures\n",
    "- https://scikit-learn.org/stable/auto_examples/linear_model/plot_ols.html"
   ]
  },
  {
   "cell_type": "code",
   "execution_count": null,
   "metadata": {},
   "outputs": [],
   "source": []
  }
 ],
 "metadata": {
  "kernelspec": {
   "display_name": "Python 3",
   "language": "python",
   "name": "python3"
  },
  "language_info": {
   "codemirror_mode": {
    "name": "ipython",
    "version": 3
   },
   "file_extension": ".py",
   "mimetype": "text/x-python",
   "name": "python",
   "nbconvert_exporter": "python",
   "pygments_lexer": "ipython3",
   "version": "3.8.5"
  }
 },
 "nbformat": 4,
 "nbformat_minor": 4
}

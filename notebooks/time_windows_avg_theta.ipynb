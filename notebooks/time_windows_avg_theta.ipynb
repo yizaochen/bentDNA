{
 "cells": [
  {
   "cell_type": "code",
   "execution_count": 13,
   "metadata": {},
   "outputs": [],
   "source": [
    "from bentdna.avg_shape import AvgShapeWindows\n",
    "import matplotlib.pyplot as plt\n",
    "import numpy as np\n",
    "bentna_folder = '/home/yizaochen/codes/dna_rna/length_effect/find_helical_axis'"
   ]
  },
  {
   "cell_type": "markdown",
   "metadata": {},
   "source": [
    "### Part 1: Initialize"
   ]
  },
  {
   "cell_type": "code",
   "execution_count": 2,
   "metadata": {},
   "outputs": [],
   "source": [
    "host = 'a_tract_21mer'\n",
    "n_frames_per_window = 5000\n",
    "a_agent = AvgShapeWindows(bentna_folder, host, n_frames_per_window)"
   ]
  },
  {
   "cell_type": "code",
   "execution_count": 3,
   "metadata": {},
   "outputs": [
    {
     "data": {
      "text/plain": [
       "[(1, 5001),\n",
       " (2501, 7501),\n",
       " (5001, 10001),\n",
       " (7501, 12501),\n",
       " (10001, 15001),\n",
       " (12501, 17501),\n",
       " (15001, 20001),\n",
       " (17501, 22501),\n",
       " (20001, 25001),\n",
       " (22501, 27501),\n",
       " (25001, 30001),\n",
       " (27501, 32501),\n",
       " (30001, 35001),\n",
       " (32501, 37501),\n",
       " (35001, 40001),\n",
       " (37501, 42501),\n",
       " (40001, 45001),\n",
       " (42501, 47501),\n",
       " (45001, 50001)]"
      ]
     },
     "execution_count": 3,
     "metadata": {},
     "output_type": "execute_result"
    }
   ],
   "source": [
    "#a_agent.get_split_frame_list()"
   ]
  },
  {
   "cell_type": "markdown",
   "metadata": {},
   "source": [
    "### Part 2: Read $l_i$ and $\\theta$"
   ]
  },
  {
   "cell_type": "code",
   "execution_count": 4,
   "metadata": {},
   "outputs": [
    {
     "name": "stdout",
     "output_type": "stream",
     "text": [
      "Read /home/yizaochen/codes/dna_rna/length_effect/find_helical_axis/a_tract_21mer/l_theta/l_modulus_theta_21_beads.csv\n"
     ]
    }
   ],
   "source": [
    "a_agent.read_l_modulus_theta()"
   ]
  },
  {
   "cell_type": "code",
   "execution_count": 5,
   "metadata": {},
   "outputs": [
    {
     "data": {
      "text/html": [
       "<div>\n",
       "<style scoped>\n",
       "    .dataframe tbody tr th:only-of-type {\n",
       "        vertical-align: middle;\n",
       "    }\n",
       "\n",
       "    .dataframe tbody tr th {\n",
       "        vertical-align: top;\n",
       "    }\n",
       "\n",
       "    .dataframe thead th {\n",
       "        text-align: right;\n",
       "    }\n",
       "</style>\n",
       "<table border=\"1\" class=\"dataframe\">\n",
       "  <thead>\n",
       "    <tr style=\"text-align: right;\">\n",
       "      <th></th>\n",
       "      <th>Frame_ID</th>\n",
       "      <th>i</th>\n",
       "      <th>j</th>\n",
       "      <th>|l_i|</th>\n",
       "      <th>|l_j|</th>\n",
       "      <th>theta</th>\n",
       "    </tr>\n",
       "  </thead>\n",
       "  <tbody>\n",
       "    <tr>\n",
       "      <th>0</th>\n",
       "      <td>0</td>\n",
       "      <td>0</td>\n",
       "      <td>1</td>\n",
       "      <td>3.348145</td>\n",
       "      <td>3.234820</td>\n",
       "      <td>0.052631</td>\n",
       "    </tr>\n",
       "    <tr>\n",
       "      <th>1</th>\n",
       "      <td>0</td>\n",
       "      <td>0</td>\n",
       "      <td>2</td>\n",
       "      <td>3.348145</td>\n",
       "      <td>3.920404</td>\n",
       "      <td>0.037771</td>\n",
       "    </tr>\n",
       "    <tr>\n",
       "      <th>2</th>\n",
       "      <td>0</td>\n",
       "      <td>0</td>\n",
       "      <td>3</td>\n",
       "      <td>3.348145</td>\n",
       "      <td>2.740081</td>\n",
       "      <td>0.121389</td>\n",
       "    </tr>\n",
       "    <tr>\n",
       "      <th>3</th>\n",
       "      <td>0</td>\n",
       "      <td>0</td>\n",
       "      <td>4</td>\n",
       "      <td>3.348145</td>\n",
       "      <td>3.665655</td>\n",
       "      <td>0.164109</td>\n",
       "    </tr>\n",
       "    <tr>\n",
       "      <th>4</th>\n",
       "      <td>0</td>\n",
       "      <td>0</td>\n",
       "      <td>5</td>\n",
       "      <td>3.348145</td>\n",
       "      <td>3.481909</td>\n",
       "      <td>0.188460</td>\n",
       "    </tr>\n",
       "  </tbody>\n",
       "</table>\n",
       "</div>"
      ],
      "text/plain": [
       "   Frame_ID  i  j     |l_i|     |l_j|     theta\n",
       "0         0  0  1  3.348145  3.234820  0.052631\n",
       "1         0  0  2  3.348145  3.920404  0.037771\n",
       "2         0  0  3  3.348145  2.740081  0.121389\n",
       "3         0  0  4  3.348145  3.665655  0.164109\n",
       "4         0  0  5  3.348145  3.481909  0.188460"
      ]
     },
     "execution_count": 5,
     "metadata": {},
     "output_type": "execute_result"
    }
   ],
   "source": [
    "a_agent.df_l_modulus_theta.head()"
   ]
  },
  {
   "cell_type": "markdown",
   "metadata": {},
   "source": [
    "### Part 3: Split all frames data into time windows"
   ]
  },
  {
   "cell_type": "code",
   "execution_count": 5,
   "metadata": {},
   "outputs": [],
   "source": [
    "a_agent.set_split_df_list()"
   ]
  },
  {
   "cell_type": "code",
   "execution_count": 5,
   "metadata": {},
   "outputs": [],
   "source": [
    "#split_df_list = a_agent.get_split_df_list()\n",
    "#split_df_list[18].shape # key: 0-18"
   ]
  },
  {
   "cell_type": "markdown",
   "metadata": {},
   "source": [
    "### Part 4: Make/Read shapes of all windows"
   ]
  },
  {
   "cell_type": "code",
   "execution_count": 6,
   "metadata": {},
   "outputs": [
    {
     "name": "stdout",
     "output_type": "stream",
     "text": [
      "Start to process Window-0\n",
      "Start to process Window-1\n",
      "Start to process Window-2\n",
      "Start to process Window-3\n",
      "Start to process Window-4\n",
      "Start to process Window-5\n",
      "Start to process Window-6\n",
      "Start to process Window-7\n",
      "Start to process Window-8\n",
      "Start to process Window-9\n",
      "Start to process Window-10\n",
      "Start to process Window-11\n",
      "Start to process Window-12\n",
      "Start to process Window-13\n",
      "Start to process Window-14\n",
      "Start to process Window-15\n",
      "Start to process Window-16\n",
      "Start to process Window-17\n",
      "Start to process Window-18\n",
      "Save shapes of all windows into /home/yizaochen/codes/dna_rna/length_effect/find_helical_axis/a_tract_21mer/l_theta/shape_store_array.npy\n"
     ]
    }
   ],
   "source": [
    "execute = False\n",
    "if execute:\n",
    "    a_agent.set_shape_store_array()\n",
    "    a_agent.save_shape_store_array()　"
   ]
  },
  {
   "cell_type": "code",
   "execution_count": 9,
   "metadata": {},
   "outputs": [
    {
     "name": "stdout",
     "output_type": "stream",
     "text": [
      "Read shape_store_array from /home/yizaochen/codes/dna_rna/length_effect/find_helical_axis/a_tract_21mer/l_theta/shape_store_array.npy\n"
     ]
    }
   ],
   "source": [
    "a_agent.read_shape_store_array()"
   ]
  },
  {
   "cell_type": "markdown",
   "metadata": {},
   "source": [
    "### Part 5: Plot $\\theta^0(\\textbf{r})$ for Group 1"
   ]
  },
  {
   "cell_type": "code",
   "execution_count": 30,
   "metadata": {},
   "outputs": [],
   "source": [
    "n_frames_per_window = 5000\n",
    "group1_hosts = ['a_tract_21mer', 'tat_21mer', 'g_tract_21mer', 'gcgc_21mer']"
   ]
  },
  {
   "cell_type": "code",
   "execution_count": 41,
   "metadata": {},
   "outputs": [],
   "source": [
    "d_colors = {'a_tract_21mer': 'blue', 'atat_21mer': 'orange', 'ctct_21mer': 'green',\n",
    "                'g_tract_21mer': 'red', 'gcgc_21mer': 'magenta', 'tgtg_21mer': 'cyan', \n",
    "                'tat_21mer': 'purple', 'tat_1_21mer': 'magenta', 'tat_2_21mer': 'green',\n",
    "                'tat_3_21mer': 'cyan'}\n",
    "\n",
    "abbr_hosts = {'a_tract_21mer': 'A-tract', 'ctct_21mer': 'CTCT', 'gcgc_21mer': 'CpG',\n",
    "                  'g_tract_21mer': 'G-tract', 'atat_21mer': 'ATAT', 'tgtg_21mer': 'TGTG', \n",
    "                  'tat_21mer': 'A-junction', 'tat_1_21mer': 'TAT-1', 'tat_2_21mer': 'TAT-2', 'tat_3_21mer': 'TAT-3'} "
   ]
  },
  {
   "cell_type": "code",
   "execution_count": 15,
   "metadata": {},
   "outputs": [],
   "source": [
    "xticks = range(15)\n",
    "xticklabels = list()\n",
    "start_idx = 4\n",
    "for bp_id in xticks:\n",
    "    idx = start_idx + bp_id\n",
    "    xticklabels.append(r'$\\mathbf{r}_{' + f'{idx}' +r'}$')"
   ]
  },
  {
   "cell_type": "code",
   "execution_count": 43,
   "metadata": {},
   "outputs": [
    {
     "name": "stdout",
     "output_type": "stream",
     "text": [
      "Read shape_store_array from /home/yizaochen/codes/dna_rna/length_effect/find_helical_axis/a_tract_21mer/l_theta/shape_store_array.npy\n",
      "Read shape_store_array from /home/yizaochen/codes/dna_rna/length_effect/find_helical_axis/tat_21mer/l_theta/shape_store_array.npy\n",
      "Read shape_store_array from /home/yizaochen/codes/dna_rna/length_effect/find_helical_axis/g_tract_21mer/l_theta/shape_store_array.npy\n",
      "Read shape_store_array from /home/yizaochen/codes/dna_rna/length_effect/find_helical_axis/gcgc_21mer/l_theta/shape_store_array.npy\n"
     ]
    },
    {
     "data": {
      "image/png": "[encoded data removed]",
      "text/plain": [
       "<Figure size 576x288 with 1 Axes>"
      ]
     },
     "metadata": {},
     "output_type": "display_data"
    }
   ],
   "source": [
    "fig, ax = plt.subplots(figsize=(8,4), facecolor=\"white\")\n",
    "ylims = (-0.5,22.5)\n",
    "\n",
    "for host in group1_hosts:\n",
    "    a_agent = AvgShapeWindows(bentna_folder, host, n_frames_per_window)\n",
    "    a_agent.read_shape_store_array()\n",
    "    mean_array, std_array = a_agent.get_mean_std_array_for_windows()\n",
    "    x_array = list(range(len(mean_array)))\n",
    "    ax.errorbar(x_array, np.rad2deg(mean_array), yerr=np.rad2deg(std_array), linestyle='--', marker='.', linewidth=1, \n",
    "                markersize=4, label=abbr_hosts[host], alpha=1, color=d_colors[host])\n",
    "ax.legend()\n",
    "ax.set_xticks(xticks)\n",
    "ax.set_xticklabels(xticklabels)\n",
    "ax.set_ylabel(r'$\\theta^{0}(\\mathbf{r}_i)$  (degree)')\n",
    "ax.set_ylim(ylims)\n",
    "\n",
    "plt.tight_layout()\n",
    "#plt.savefig('/home/yizaochen/Desktop/drawzone_temp/avg_theta_1.png', dpi=150, transparent=False)\n",
    "plt.show()"
   ]
  },
  {
   "cell_type": "markdown",
   "metadata": {},
   "source": [
    "### Part : Plot $\\theta^0(\\textbf{r})$ for Group 2"
   ]
  },
  {
   "cell_type": "code",
   "execution_count": 28,
   "metadata": {},
   "outputs": [],
   "source": [
    "group2_hosts = ['a_tract_21mer', 'tat_21mer', 'tat_1_21mer', 'tat_2_21mer', 'tat_3_21mer', 'atat_21mer']"
   ]
  },
  {
   "cell_type": "code",
   "execution_count": 44,
   "metadata": {},
   "outputs": [
    {
     "name": "stdout",
     "output_type": "stream",
     "text": [
      "Read shape_store_array from /home/yizaochen/codes/dna_rna/length_effect/find_helical_axis/a_tract_21mer/l_theta/shape_store_array.npy\n",
      "Read shape_store_array from /home/yizaochen/codes/dna_rna/length_effect/find_helical_axis/tat_21mer/l_theta/shape_store_array.npy\n",
      "Read shape_store_array from /home/yizaochen/codes/dna_rna/length_effect/find_helical_axis/tat_1_21mer/l_theta/shape_store_array.npy\n",
      "Read shape_store_array from /home/yizaochen/codes/dna_rna/length_effect/find_helical_axis/tat_2_21mer/l_theta/shape_store_array.npy\n",
      "Read shape_store_array from /home/yizaochen/codes/dna_rna/length_effect/find_helical_axis/tat_3_21mer/l_theta/shape_store_array.npy\n",
      "Read shape_store_array from /home/yizaochen/codes/dna_rna/length_effect/find_helical_axis/atat_21mer/l_theta/shape_store_array.npy\n"
     ]
    },
    {
     "data": {
      "image/png": "[encoded data removed]",
      "text/plain": [
       "<Figure size 576x288 with 1 Axes>"
      ]
     },
     "metadata": {},
     "output_type": "display_data"
    }
   ],
   "source": [
    "fig, ax = plt.subplots(figsize=(8,4), facecolor=\"white\")\n",
    "ylims = (-0.5,22.5)\n",
    "\n",
    "for host in group2_hosts:\n",
    "    a_agent = AvgShapeWindows(bentna_folder, host, n_frames_per_window)\n",
    "    a_agent.read_shape_store_array()\n",
    "    mean_array, std_array = a_agent.get_mean_std_array_for_windows()\n",
    "    x_array = list(range(len(mean_array)))\n",
    "    ax.errorbar(x_array, np.rad2deg(mean_array), yerr=np.rad2deg(std_array), linestyle='--', marker='.', linewidth=1, \n",
    "                markersize=4, label=abbr_hosts[host], alpha=1, color=d_colors[host])\n",
    "ax.legend()\n",
    "ax.set_xticks(xticks)\n",
    "ax.set_xticklabels(xticklabels)\n",
    "ax.set_ylabel(r'$\\theta^{0}(\\mathbf{r}_i)$  (degree)')\n",
    "ax.set_ylim(ylims)\n",
    "\n",
    "plt.tight_layout()\n",
    "#plt.savefig('/home/yizaochen/Desktop/drawzone_temp/avg_theta_2.png', dpi=150, transparent=False)\n",
    "plt.show()"
   ]
  },
  {
   "cell_type": "markdown",
   "metadata": {},
   "source": [
    "### Batch Run"
   ]
  },
  {
   "cell_type": "code",
   "execution_count": null,
   "metadata": {},
   "outputs": [],
   "source": [
    "hosts = ['g_tract_21mer', 'gcgc_21mer', 'tat_21mer', 'tat_1_21mer', 'tat_2_21mer', 'tat_3_21mer', 'atat_21mer']\n",
    "n_frames_per_window = 5000\n",
    "for host in hosts:\n",
    "    a_agent = AvgShapeWindows(bentna_folder, host, n_frames_per_window)\n",
    "    #a_agent.read_l_modulus_theta()\n",
    "    #a_agent.set_split_df_list()\n",
    "    #a_agent.set_shape_store_array()\n",
    "    #a_agent.save_shape_store_array()"
   ]
  },
  {
   "cell_type": "code",
   "execution_count": null,
   "metadata": {},
   "outputs": [],
   "source": []
  }
 ],
 "metadata": {
  "kernelspec": {
   "display_name": "Python 3",
   "language": "python",
   "name": "python3"
  },
  "language_info": {
   "codemirror_mode": {
    "name": "ipython",
    "version": 3
   },
   "file_extension": ".py",
   "mimetype": "text/x-python",
   "name": "python",
   "nbconvert_exporter": "python",
   "pygments_lexer": "ipython3",
   "version": "3.8.5"
  }
 },
 "nbformat": 4,
 "nbformat_minor": 4
}

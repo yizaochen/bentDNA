{
 "cells": [
  {
   "cell_type": "code",
   "execution_count": 1,
   "metadata": {},
   "outputs": [],
   "source": [
    "from os import path\n",
    "import enm, rtf, ic_str"
   ]
  },
  {
   "cell_type": "code",
   "execution_count": 6,
   "metadata": {},
   "outputs": [
    {
     "name": "stdout",
     "output_type": "stream",
     "text": [
      "/Users/yizao/PycharmProjects/ENM/pnas_amber_clean exists\n",
      "/Users/yizao/PycharmProjects/ENM/pnas_amber_clean/bdna+bdna exists\n",
      "/Users/yizao/PycharmProjects/ENM/pnas_amber_clean/bdna+bdna/input exists\n",
      "/Users/yizao/PycharmProjects/ENM/pnas_amber_clean/bdna+bdna/charmm_inp exists\n",
      "/Users/yizao/PycharmProjects/ENM/pnas_amber_clean/bdna+bdna/charmm_dat exists\n",
      "/Users/yizao/PycharmProjects/ENM/pnas_amber_clean/bdna+bdna/mode_traj exists\n",
      "/Users/yizao/PycharmProjects/ENM/pnas_amber_clean/bdna+bdna/ic exists\n",
      "/Users/yizao/PycharmProjects/ENM/pnas_amber_clean/bdna+bdna/ic_fluct_mat exists\n",
      "/Users/yizao/PycharmProjects/ENM/pnas_amber_clean/bdna+bdna/rtf_ic_str exists\n",
      "/Users/yizao/PycharmProjects/ENM/pnas_amber_clean/bdna+bdna/data exists\n"
     ]
    }
   ],
   "source": [
    "host = 'pnas_amber_clean'\n",
    "type_na = 'bdna+bdna'\n",
    "agent = enm.ENMAgent(host, type_na)"
   ]
  },
  {
   "cell_type": "markdown",
   "metadata": {},
   "source": [
    "### Part 1: Get All Pairs"
   ]
  },
  {
   "cell_type": "code",
   "execution_count": 7,
   "metadata": {},
   "outputs": [],
   "source": [
    "pairs = agent.get_all_pairs()"
   ]
  },
  {
   "cell_type": "code",
   "execution_count": 8,
   "metadata": {},
   "outputs": [
    {
     "data": {
      "text/plain": [
       "21387"
      ]
     },
     "execution_count": 8,
     "metadata": {},
     "output_type": "execute_result"
    }
   ],
   "source": [
    "len(pairs)"
   ]
  },
  {
   "cell_type": "markdown",
   "metadata": {},
   "source": [
    "### Part 2: Make RTF"
   ]
  },
  {
   "cell_type": "code",
   "execution_count": 9,
   "metadata": {},
   "outputs": [],
   "source": [
    "rtf_agent = rtf.RTF(host, type_na, agent.crd, pairs, agent.mass_map)"
   ]
  },
  {
   "cell_type": "code",
   "execution_count": 10,
   "metadata": {},
   "outputs": [],
   "source": [
    "f_out = path.join('.', host, type_na, 'rtf_ic_str', 'na_enm.rtf')\n",
    "rtf_agent.write_rtf(f_out)"
   ]
  },
  {
   "cell_type": "markdown",
   "metadata": {},
   "source": [
    "Make RTF in which all atoms have mass 1"
   ]
  },
  {
   "cell_type": "code",
   "execution_count": 4,
   "metadata": {},
   "outputs": [],
   "source": [
    "rtf_agent = rtf.RTF(host, type_na, agent.crd, pairs, agent.mass_map)\n",
    "rtf_agent.make_mass_all_1()\n",
    "f_out = path.join('.', host, type_na, 'rtf_ic_str', 'na_enm_mass_1.rtf')\n",
    "rtf_agent.write_rtf(f_out)"
   ]
  },
  {
   "cell_type": "markdown",
   "metadata": {},
   "source": [
    "### Part 3: Make IC-Stream "
   ]
  },
  {
   "cell_type": "code",
   "execution_count": 11,
   "metadata": {},
   "outputs": [],
   "source": [
    "f_out = path.join('.', host, type_na, 'rtf_ic_str', 'na_enm.str')\n",
    "icstr_agent = ic_str.ICSTR(host, type_na, agent.crd, pairs, agent.atomid_map)\n",
    "icstr_agent.write_ic_str(f_out)"
   ]
  },
  {
   "cell_type": "markdown",
   "metadata": {},
   "source": [
    "### Part 4: Make CRD"
   ]
  },
  {
   "cell_type": "markdown",
   "metadata": {},
   "source": [
    "vim ./pnas_amber_clean/bdna+bdna/charmm_inp/make_enm_crd.inp  \n",
    "charmm_yz < ./pnas_amber_clean/bdna+bdna/charmm_inp/make_enm_crd.inp > ./pnas_amber_clean/bdna+bdna/charmm_dat/make_enm_crd.dat"
   ]
  },
  {
   "cell_type": "markdown",
   "metadata": {},
   "source": [
    "### Part 5: Make ENM PSF"
   ]
  },
  {
   "cell_type": "markdown",
   "metadata": {},
   "source": [
    "vim pnas_amber_clean/bdna+bdna/charmm_inp/make_enm_psf.inp\n",
    "\n",
    "charmm_yz < pnas_amber_clean/bdna+bdna/charmm_inp/make_enm_psf.inp > pnas_amber_clean/bdna+bdna/charmm_dat/make_enm_psf.dat"
   ]
  },
  {
   "cell_type": "markdown",
   "metadata": {},
   "source": [
    "### Test Zone"
   ]
  },
  {
   "cell_type": "code",
   "execution_count": null,
   "metadata": {},
   "outputs": [],
   "source": []
  }
 ],
 "metadata": {
  "kernelspec": {
   "display_name": "Python 3",
   "language": "python",
   "name": "python3"
  },
  "language_info": {
   "codemirror_mode": {
    "name": "ipython",
    "version": 3
   },
   "file_extension": ".py",
   "mimetype": "text/x-python",
   "name": "python",
   "nbconvert_exporter": "python",
   "pygments_lexer": "ipython3",
   "version": "3.7.6"
  }
 },
 "nbformat": 4,
 "nbformat_minor": 4
}

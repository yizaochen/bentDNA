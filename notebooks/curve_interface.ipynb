{
 "cells": [
  {
   "cell_type": "code",
   "execution_count": 1,
   "metadata": {},
   "outputs": [],
   "source": [
    "from os import path\n",
    "import MDAnalysis as mda\n",
    "from PDB import PDBReader, PDBWriter\n",
    "from find_haxis_curve import FindHelixAgent, PrepareHelix"
   ]
  },
  {
   "cell_type": "markdown",
   "metadata": {},
   "source": [
    "### Part 0: Prepare Required file"
   ]
  },
  {
   "cell_type": "code",
   "execution_count": 2,
   "metadata": {},
   "outputs": [
    {
     "name": "stdout",
     "output_type": "stream",
     "text": [
      "/home/yizaochen/codes/dna_rna/length_effect/find_helical_axis/pnas_16mer/input exists\n",
      "/home/yizaochen/codes/dna_rna/length_effect/find_helical_axis/pnas_16mer/output exists\n",
      "cd /home/yizaochen/codes/dna_rna/length_effect/find_helical_axis/pnas_16mer\n"
     ]
    }
   ],
   "source": [
    "host = 'pnas_16mer'\n",
    "n_bp = 16\n",
    "\n",
    "prep_helix = PrepareHelix(host)\n",
    "print(f'cd {prep_helix.workfolder}')"
   ]
  },
  {
   "cell_type": "code",
   "execution_count": null,
   "metadata": {},
   "outputs": [],
   "source": [
    "prep_helix.copy_input_xtc()\n",
    "prep_helix.copy_input_pdb()"
   ]
  },
  {
   "cell_type": "markdown",
   "metadata": {},
   "source": [
    "### Part 1: assign number of base-pairs"
   ]
  },
  {
   "cell_type": "code",
   "execution_count": 6,
   "metadata": {},
   "outputs": [],
   "source": [
    "n_bp = 16\n",
    "pdb_in = path.join(prep_helix.input_folder, 'bdna+bdna.npt4.all.pdb')\n",
    "xtc_in = path.join(prep_helix.input_folder, 'bdna+bdna.all.xtc')"
   ]
  },
  {
   "cell_type": "markdown",
   "metadata": {},
   "source": [
    "### Part 2: Convert xtc to dcd"
   ]
  },
  {
   "cell_type": "code",
   "execution_count": 9,
   "metadata": {},
   "outputs": [
    {
     "name": "stdout",
     "output_type": "stream",
     "text": [
      "vmd -pdb /home/yizaochen/codes/dna_rna/length_effect/ipynbs/find_helical_axis/pnas_amber/bdna+bdna.npt4.all.pdb /home/yizaochen/codes/dna_rna/length_effect/ipynbs/find_helical_axis/pnas_amber/bdna+bdna.all.xtc\n",
      "In vmd tkconsole\n",
      "animate write dcd /home/yizaochen/codes/dna_rna/length_effect/ipynbs/find_helical_axis/pnas_amber/bdna+bdna.0_1000ns.10000frames.dcd beg 1 end 10001 waitfor all\n"
     ]
    }
   ],
   "source": [
    "cmd = f'vmd -pdb {prep_helix.pdb_in} {prep_helix.xtc_in}'\n",
    "print(cmd)\n",
    "\n",
    "# In vmd tkconsole\n",
    "dcd_out = path.join(prep_helix.input_folder, 'bdna+bdna.0_1000ns.10000frames.dcd')\n",
    "print('In vmd tkconsole')\n",
    "cmd = f'animate write dcd {dcd_out} beg 1 end 10001 waitfor all'\n",
    "print(cmd)"
   ]
  },
  {
   "cell_type": "markdown",
   "metadata": {},
   "source": [
    "### Part 3: Change B-chain ID from 1-16 to 17-32"
   ]
  },
  {
   "cell_type": "code",
   "execution_count": null,
   "metadata": {},
   "outputs": [],
   "source": [
    "# check pdb, to see whether require to change resid\n",
    "cmd = f'vim {prep_helix.pdb_in}'\n",
    "print(cmd)"
   ]
  },
  {
   "cell_type": "code",
   "execution_count": 10,
   "metadata": {},
   "outputs": [
    {
     "name": "stdout",
     "output_type": "stream",
     "text": [
      "Write PDB: /home/yizaochen/codes/dna_rna/length_effect/ipynbs/find_helical_axis/pnas_amber/bdna_modi.pdb\n"
     ]
    }
   ],
   "source": [
    "reader = PDBReader(pdb_in, segid_exist=True)\n",
    "atgs = reader.get_atomgroup()\n",
    "\n",
    "# Change resid\n",
    "resid_offset = n_bp\n",
    "for atom in atgs:\n",
    "    if atom.segid == 'B':\n",
    "        atom.resid += resid_offset\n",
    "        \n",
    "pdb_modified = path.join(prep_helix.input_folder, 'bdna_modi.pdb')\n",
    "writer = PDBWriter(pdb_modified, atgs)\n",
    "writer.write_pdb()"
   ]
  },
  {
   "cell_type": "markdown",
   "metadata": {},
   "source": [
    "### Part 4: Initialize FindHelixAgent"
   ]
  },
  {
   "cell_type": "code",
   "execution_count": 11,
   "metadata": {},
   "outputs": [
    {
     "name": "stdout",
     "output_type": "stream",
     "text": [
      "mkdir /home/yizaochen/codes/dna_rna/length_effect/ipynbs/find_helical_axis/pnas_amber/pdbs_allatoms\n",
      "mkdir /home/yizaochen/codes/dna_rna/length_effect/ipynbs/find_helical_axis/pnas_amber/curve_workdir_0_10001\n",
      "mkdir /home/yizaochen/codes/dna_rna/length_effect/ipynbs/find_helical_axis/pnas_amber/pdbs_haxis\n",
      "There are 10001 frames.\n"
     ]
    }
   ],
   "source": [
    "f_agent = FindHelixAgent(prep_helix.workfolder, pdb_modified, dcd_out, n_bp)"
   ]
  },
  {
   "cell_type": "markdown",
   "metadata": {},
   "source": [
    "### Part 5: Extract single pdb from dcd"
   ]
  },
  {
   "cell_type": "code",
   "execution_count": 12,
   "metadata": {},
   "outputs": [],
   "source": [
    "f_agent.extract_pdb_allatoms()"
   ]
  },
  {
   "cell_type": "markdown",
   "metadata": {},
   "source": [
    "### Part 6: Execute Curve+ and Convert to H-axis pdb"
   ]
  },
  {
   "cell_type": "code",
   "execution_count": null,
   "metadata": {},
   "outputs": [],
   "source": [
    "f_agent.curveplus_find_haxis()"
   ]
  },
  {
   "cell_type": "markdown",
   "metadata": {},
   "source": [
    "### Part 7: Use VMD to show"
   ]
  },
  {
   "cell_type": "code",
   "execution_count": 16,
   "metadata": {},
   "outputs": [
    {
     "name": "stdout",
     "output_type": "stream",
     "text": [
      "vmd\n",
      "source /home/yizaochen/codes/na_mechanics/make_haxis.tcl\n",
      "read_all_pdb_files 0 10000\n",
      "animate write dcd ../haxis.dcd beg 0 end 10000 waitfor all\n"
     ]
    }
   ],
   "source": [
    "cmd = 'vmd'\n",
    "print(cmd)\n",
    "\n",
    "haxis_tcl = '/home/yizaochen/codes/na_mechanics/make_haxis.tcl'\n",
    "cmd = f'source {haxis_tcl}'\n",
    "print(cmd)\n",
    "\n",
    "start = 0\n",
    "end = 10000\n",
    "cmd = f'read_all_pdb_files {start} {end}'\n",
    "print(cmd)\n",
    "\n",
    "haxis_dcd = path.join(prep_helix.input_folder, 'haxis.dcd')\n",
    "cmd = f'animate write dcd {haxis_dcd} beg {start} end {end} waitfor all'\n",
    "print(cmd)"
   ]
  },
  {
   "cell_type": "code",
   "execution_count": 17,
   "metadata": {},
   "outputs": [
    {
     "name": "stdout",
     "output_type": "stream",
     "text": [
      "vmd -pdb haxis.0.pdb ../haxis.dcd\n",
      "mol new /home/yizaochen/codes/dna_rna/length_effect/ipynbs/find_helical_axis/pnas_amber/bdna_modi.pdb\n",
      "mol addfile /home/yizaochen/codes/dna_rna/length_effect/ipynbs/find_helical_axis/pnas_amber/bdna+bdna.0_1000ns.10000frames.dcd 1\n"
     ]
    }
   ],
   "source": [
    "pdb_ref = path.join(prep_helix.workfolder, 'pdbs_haxis', 'haxis.0.pdb')\n",
    "cmd = f'vmd -pdb {pdb_ref} {haxis_dcd}'\n",
    "print(cmd)\n",
    "\n",
    "cmd = f'mol new {pdb_modified}'\n",
    "print(cmd)\n",
    "\n",
    "cmd = f'mol addfile {dcd_out} 1'\n",
    "print(cmd)"
   ]
  },
  {
   "cell_type": "markdown",
   "metadata": {},
   "source": [
    "### Part 8: rm pdb_allatoms"
   ]
  },
  {
   "cell_type": "code",
   "execution_count": 4,
   "metadata": {},
   "outputs": [
    {
     "name": "stdout",
     "output_type": "stream",
     "text": [
      "rm /home/yizaochen/codes/dna_rna/length_effect/find_helical_axis/pnas_16mer/pdbs_allatoms/*\n"
     ]
    }
   ],
   "source": [
    "allpdbs = path.join(prep_helix.workfolder, 'pdbs_allatoms', '*')\n",
    "cmd = f'rm {allpdbs}'\n",
    "print(cmd)"
   ]
  },
  {
   "cell_type": "markdown",
   "metadata": {},
   "source": [
    "### Useful commands"
   ]
  },
  {
   "cell_type": "markdown",
   "metadata": {},
   "source": [
    "- cat 0.pdb | grep 'ATOM      1'"
   ]
  }
 ],
 "metadata": {
  "kernelspec": {
   "display_name": "Python 3",
   "language": "python",
   "name": "python3"
  },
  "language_info": {
   "codemirror_mode": {
    "name": "ipython",
    "version": 3
   },
   "file_extension": ".py",
   "mimetype": "text/x-python",
   "name": "python",
   "nbconvert_exporter": "python",
   "pygments_lexer": "ipython3",
   "version": "3.8.5"
  }
 },
 "nbformat": 4,
 "nbformat_minor": 4
}

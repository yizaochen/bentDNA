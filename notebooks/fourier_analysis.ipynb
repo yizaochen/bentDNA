{
 "cells": [
  {
   "cell_type": "code",
   "execution_count": 1,
   "metadata": {},
   "outputs": [],
   "source": [
    "from os import path\n",
    "import numpy as np\n",
    "import matplotlib.pyplot as plt\n",
    "from bentdna import shapefourier\n",
    "bentna_folder = '/home/yizaochen/codes/bentdna'"
   ]
  },
  {
   "cell_type": "markdown",
   "metadata": {},
   "source": [
    "### Part 1: Initialize"
   ]
  },
  {
   "cell_type": "code",
   "execution_count": 2,
   "metadata": {},
   "outputs": [
    {
     "name": "stdout",
     "output_type": "stream",
     "text": [
      "mkdir /home/yizaochen/codes/bentdna/tests/pnas_16mer/an_folder\n"
     ]
    }
   ],
   "source": [
    "workfolder = path.join(bentna_folder, 'tests')\n",
    "host = 'pnas_16mer'\n",
    "bp_id_first = 3\n",
    "bp_id_last = 12\n",
    "s_agent = shapefourier.ShapeAgent(workfolder, host, bp_id_first, bp_id_last)"
   ]
  },
  {
   "cell_type": "markdown",
   "metadata": {},
   "source": [
    "### Part 2: Read $l_i$ and $\\theta$"
   ]
  },
  {
   "cell_type": "code",
   "execution_count": 3,
   "metadata": {},
   "outputs": [],
   "source": [
    "s_agent.read_l_modulus_theta()"
   ]
  },
  {
   "cell_type": "markdown",
   "metadata": {},
   "source": [
    "### Part 3: Make or Read Dataframe of $a_n$"
   ]
  },
  {
   "cell_type": "code",
   "execution_count": 4,
   "metadata": {},
   "outputs": [],
   "source": [
    "n_begin = 1\n",
    "n_end = 8"
   ]
  },
  {
   "cell_type": "code",
   "execution_count": 5,
   "metadata": {},
   "outputs": [],
   "source": [
    "# make, if need\n",
    "df_an = s_agent.make_df_an(n_begin, n_end)"
   ]
  },
  {
   "cell_type": "code",
   "execution_count": null,
   "metadata": {},
   "outputs": [],
   "source": [
    "# read\n",
    "df_an = s_agent.read_df_an(n_begin, n_end)"
   ]
  },
  {
   "cell_type": "code",
   "execution_count": 7,
   "metadata": {},
   "outputs": [
    {
     "data": {
      "text/html": [
       "<div>\n",
       "<style scoped>\n",
       "    .dataframe tbody tr th:only-of-type {\n",
       "        vertical-align: middle;\n",
       "    }\n",
       "\n",
       "    .dataframe tbody tr th {\n",
       "        vertical-align: top;\n",
       "    }\n",
       "\n",
       "    .dataframe thead th {\n",
       "        text-align: right;\n",
       "    }\n",
       "</style>\n",
       "<table border=\"1\" class=\"dataframe\">\n",
       "  <thead>\n",
       "    <tr style=\"text-align: right;\">\n",
       "      <th></th>\n",
       "      <th>1</th>\n",
       "      <th>2</th>\n",
       "      <th>3</th>\n",
       "      <th>4</th>\n",
       "      <th>5</th>\n",
       "      <th>6</th>\n",
       "      <th>7</th>\n",
       "      <th>8</th>\n",
       "    </tr>\n",
       "  </thead>\n",
       "  <tbody>\n",
       "    <tr>\n",
       "      <th>0</th>\n",
       "      <td>-0.389280</td>\n",
       "      <td>0.009484</td>\n",
       "      <td>-0.257959</td>\n",
       "      <td>0.081056</td>\n",
       "      <td>-0.065106</td>\n",
       "      <td>0.047122</td>\n",
       "      <td>-0.026981</td>\n",
       "      <td>0.031821</td>\n",
       "    </tr>\n",
       "    <tr>\n",
       "      <th>1</th>\n",
       "      <td>-0.625353</td>\n",
       "      <td>-0.436818</td>\n",
       "      <td>-0.131595</td>\n",
       "      <td>0.100144</td>\n",
       "      <td>0.026090</td>\n",
       "      <td>0.013624</td>\n",
       "      <td>0.016021</td>\n",
       "      <td>0.009789</td>\n",
       "    </tr>\n",
       "    <tr>\n",
       "      <th>2</th>\n",
       "      <td>-0.376609</td>\n",
       "      <td>-0.351168</td>\n",
       "      <td>-0.073215</td>\n",
       "      <td>0.083829</td>\n",
       "      <td>-0.002706</td>\n",
       "      <td>0.124167</td>\n",
       "      <td>0.003681</td>\n",
       "      <td>-0.065918</td>\n",
       "    </tr>\n",
       "    <tr>\n",
       "      <th>3</th>\n",
       "      <td>-0.698446</td>\n",
       "      <td>0.056562</td>\n",
       "      <td>0.021866</td>\n",
       "      <td>0.075052</td>\n",
       "      <td>-0.011164</td>\n",
       "      <td>0.000557</td>\n",
       "      <td>-0.064714</td>\n",
       "      <td>0.051012</td>\n",
       "    </tr>\n",
       "    <tr>\n",
       "      <th>4</th>\n",
       "      <td>-0.339139</td>\n",
       "      <td>0.245110</td>\n",
       "      <td>0.016058</td>\n",
       "      <td>-0.015718</td>\n",
       "      <td>-0.051343</td>\n",
       "      <td>-0.070362</td>\n",
       "      <td>-0.069456</td>\n",
       "      <td>-0.013656</td>\n",
       "    </tr>\n",
       "  </tbody>\n",
       "</table>\n",
       "</div>"
      ],
      "text/plain": [
       "          1         2         3         4         5         6         7  \\\n",
       "0 -0.389280  0.009484 -0.257959  0.081056 -0.065106  0.047122 -0.026981   \n",
       "1 -0.625353 -0.436818 -0.131595  0.100144  0.026090  0.013624  0.016021   \n",
       "2 -0.376609 -0.351168 -0.073215  0.083829 -0.002706  0.124167  0.003681   \n",
       "3 -0.698446  0.056562  0.021866  0.075052 -0.011164  0.000557 -0.064714   \n",
       "4 -0.339139  0.245110  0.016058 -0.015718 -0.051343 -0.070362 -0.069456   \n",
       "\n",
       "          8  \n",
       "0  0.031821  \n",
       "1  0.009789  \n",
       "2 -0.065918  \n",
       "3  0.051012  \n",
       "4 -0.013656  "
      ]
     },
     "execution_count": 7,
     "metadata": {},
     "output_type": "execute_result"
    }
   ],
   "source": [
    "df_an.head()"
   ]
  },
  {
   "cell_type": "markdown",
   "metadata": {},
   "source": [
    "### Part 4: Var($a_n$) versus $n$"
   ]
  },
  {
   "cell_type": "code",
   "execution_count": 10,
   "metadata": {},
   "outputs": [],
   "source": [
    "n_list = list(range(n_begin, n_end+1))\n",
    "var_list = list()\n",
    "for n in n_list:\n",
    "    var_list.append(df_an[n].var())"
   ]
  },
  {
   "cell_type": "code",
   "execution_count": 34,
   "metadata": {},
   "outputs": [
    {
     "data": {
      "image/png": "[encoded data removed]",
      "text/plain": [
       "<Figure size 576x288 with 1 Axes>"
      ]
     },
     "metadata": {
      "needs_background": "light"
     },
     "output_type": "display_data"
    }
   ],
   "source": [
    "lbfz = 12\n",
    "ttfz = 14\n",
    "\n",
    "fig, ax = plt.subplots(ncols=1, nrows=1, figsize=(8,4))\n",
    "\n",
    "ax.set_title(f'{host}', fontsize=ttfz)\n",
    "ax.plot(n_list, var_list, '-o')\n",
    "ax.set_xlabel(r'Mode number, $n$', fontsize=lbfz)\n",
    "ax.set_ylabel('Var($a_n$)', fontsize=lbfz)\n",
    "\n",
    "plt.show()"
   ]
  },
  {
   "cell_type": "markdown",
   "metadata": {},
   "source": [
    "### Part 5: $L_p$ Calculation"
   ]
  },
  {
   "cell_type": "code",
   "execution_count": 23,
   "metadata": {},
   "outputs": [
    {
     "data": {
      "text/plain": [
       "[0.09937486594674104,\n",
       " 0.03919965206398614,\n",
       " 0.013396964602383682,\n",
       " 0.006168712880773263,\n",
       " 0.003361716953723393,\n",
       " 0.0018693601558699062,\n",
       " 0.0015662758739536918,\n",
       " 0.0017154386848450124]"
      ]
     },
     "execution_count": 23,
     "metadata": {},
     "output_type": "execute_result"
    }
   ],
   "source": [
    "var_list"
   ]
  },
  {
   "cell_type": "code",
   "execution_count": 32,
   "metadata": {},
   "outputs": [],
   "source": [
    "L = 9 * 0.34\n",
    "n = 7"
   ]
  },
  {
   "cell_type": "code",
   "execution_count": 33,
   "metadata": {},
   "outputs": [
    {
     "data": {
      "text/plain": [
       "12.361716209928543"
      ]
     },
     "execution_count": 33,
     "metadata": {},
     "output_type": "execute_result"
    }
   ],
   "source": [
    "np.square(L) / (np.square(n) * np.square(np.pi) * 0.0015662758739536918)"
   ]
  },
  {
   "cell_type": "markdown",
   "metadata": {},
   "source": [
    "### Addtional Part 1: Batch Calculation"
   ]
  },
  {
   "cell_type": "code",
   "execution_count": 2,
   "metadata": {},
   "outputs": [
    {
     "name": "stdout",
     "output_type": "stream",
     "text": [
      "mkdir /home/yizaochen/codes/dna_rna/length_effect/find_helical_axis/atat_21mer/an_folder\n",
      "mkdir /home/yizaochen/codes/dna_rna/length_effect/find_helical_axis/g_tract_21mer/an_folder\n",
      "mkdir /home/yizaochen/codes/dna_rna/length_effect/find_helical_axis/a_tract_21mer/an_folder\n",
      "mkdir /home/yizaochen/codes/dna_rna/length_effect/find_helical_axis/gcgc_21mer/an_folder\n",
      "mkdir /home/yizaochen/codes/dna_rna/length_effect/find_helical_axis/tgtg_21mer/an_folder\n",
      "mkdir /home/yizaochen/codes/dna_rna/length_effect/find_helical_axis/ctct_21mer/an_folder\n",
      "mkdir /home/yizaochen/codes/dna_rna/length_effect/find_helical_axis/yizao_model/an_folder\n",
      "mkdir /home/yizaochen/codes/dna_rna/length_effect/find_helical_axis/500mm/an_folder\n",
      "mkdir /home/yizaochen/codes/dna_rna/length_effect/find_helical_axis/only_cation/an_folder\n",
      "mkdir /home/yizaochen/codes/dna_rna/length_effect/find_helical_axis/mgcl2_150mm/an_folder\n"
     ]
    }
   ],
   "source": [
    "workfolder = '/home/yizaochen/codes/dna_rna/length_effect/find_helical_axis'\n",
    "hosts = ['atat_21mer', 'g_tract_21mer', 'a_tract_21mer', 'gcgc_21mer', 'tgtg_21mer', 'ctct_21mer',\n",
    "         'yizao_model', '500mm', 'only_cation', 'mgcl2_150mm']\n",
    "n_begin = 1\n",
    "n_end = 8\n",
    "last_frame = 10000 # 10000\n",
    "\n",
    "for host in hosts:\n",
    "    s_agent = shapefourier.ShapeAgent(workfolder, host)\n",
    "    s_agent.read_l_modulus_theta()\n",
    "    df_an = s_agent.make_df_an(n_begin, n_end, last_frame)"
   ]
  },
  {
   "cell_type": "code",
   "execution_count": null,
   "metadata": {},
   "outputs": [],
   "source": []
  }
 ],
 "metadata": {
  "kernelspec": {
   "display_name": "Python 3",
   "language": "python",
   "name": "python3"
  },
  "language_info": {
   "codemirror_mode": {
    "name": "ipython",
    "version": 3
   },
   "file_extension": ".py",
   "mimetype": "text/x-python",
   "name": "python",
   "nbconvert_exporter": "python",
   "pygments_lexer": "ipython3",
   "version": "3.8.5"
  }
 },
 "nbformat": 4,
 "nbformat_minor": 4
}

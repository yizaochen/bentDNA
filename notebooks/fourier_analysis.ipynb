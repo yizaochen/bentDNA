{
 "cells": [
  {
   "cell_type": "code",
   "execution_count": 1,
   "metadata": {},
   "outputs": [],
   "source": [
    "from os import path\n",
    "import numpy as np\n",
    "import matplotlib.pyplot as plt\n",
    "from bentdna import shapefourier\n",
    "bentna_folder = '/home/yizaochen/codes/bentdna'"
   ]
  },
  {
   "cell_type": "markdown",
   "metadata": {},
   "source": [
    "### Part 1: Initialize"
   ]
  },
  {
   "cell_type": "code",
   "execution_count": 3,
   "metadata": {},
   "outputs": [],
   "source": [
    "workfolder = path.join(bentna_folder, 'tests')\n",
    "host = 'pnas_16mer'\n",
    "bp_id_first = 3\n",
    "bp_id_last = 12\n",
    "s_agent = shapefourier.ShapeAgent(workfolder, host, bp_id_first, bp_id_last)"
   ]
  },
  {
   "cell_type": "markdown",
   "metadata": {},
   "source": [
    "### Part 2: Read $l_i$ and $\\theta$"
   ]
  },
  {
   "cell_type": "code",
   "execution_count": 4,
   "metadata": {},
   "outputs": [],
   "source": [
    "s_agent.read_l_modulus_theta()"
   ]
  },
  {
   "cell_type": "markdown",
   "metadata": {},
   "source": [
    "### Part 3: Make or Read Dataframe of $a_n$"
   ]
  },
  {
   "cell_type": "code",
   "execution_count": null,
   "metadata": {},
   "outputs": [],
   "source": [
    "n_begin = 1\n",
    "n_end = 8"
   ]
  },
  {
   "cell_type": "code",
   "execution_count": null,
   "metadata": {},
   "outputs": [],
   "source": [
    "# make\n",
    "df_an = s_agent.make_df_an(n_begin, n_end)"
   ]
  },
  {
   "cell_type": "code",
   "execution_count": null,
   "metadata": {},
   "outputs": [],
   "source": [
    "# read\n",
    "df_an = s_agent.read_df_an(n_begin, n_end)"
   ]
  },
  {
   "cell_type": "markdown",
   "metadata": {},
   "source": [
    "### Part 3: Filter functions"
   ]
  },
  {
   "cell_type": "code",
   "execution_count": 25,
   "metadata": {},
   "outputs": [],
   "source": [
    "def get_filter_df(s_agent, bp_id_0, bp_id_last, frame_id):\n",
    "    mask = (s_agent.df['i'] == bp_id_0)\n",
    "    df0 = s_agent.df[mask]\n",
    "    mask = (df0['Frame_ID'] == frame_id)\n",
    "    df1 = df0[mask]\n",
    "    mask = (df1['j'].between(bp_id_0+1, bp_id_last))\n",
    "    df2 = df1[mask]\n",
    "    return df2\n",
    "\n",
    "def get_L(df):\n",
    "    return df['|l_j|'].sum()\n",
    "\n",
    "def get_theta_list(df):\n",
    "    return df['theta'].tolist()\n",
    "\n",
    "def get_delta_s_list(df):\n",
    "    return df['|l_j|'].tolist()\n",
    "\n",
    "def get_s_mid_list(df):\n",
    "    s_mid_list = np.zeros(df.shape[0])\n",
    "    delta_s_list = df['|l_j|'].tolist()\n",
    "    s_total = 0\n",
    "    for i, delta_s in enumerate(delta_s_list):\n",
    "        s_mid = s_total + delta_s/2\n",
    "        s_total += delta_s\n",
    "        s_mid_list[i] = s_mid\n",
    "    return s_mid_list\n",
    "\n",
    "def get_s_list(df):\n",
    "    s_list = np.zeros(df.shape[0])\n",
    "    delta_s_list = df['|l_j|'].tolist()\n",
    "    s_total = 0\n",
    "    for i, delta_s in enumerate(delta_s_list):\n",
    "        s_total += delta_s\n",
    "        s_list[i] = s_total\n",
    "    return s_list"
   ]
  },
  {
   "cell_type": "markdown",
   "metadata": {},
   "source": [
    "### Part 4: Filter the selected frame "
   ]
  },
  {
   "cell_type": "code",
   "execution_count": 26,
   "metadata": {},
   "outputs": [],
   "source": [
    "frame_id = 1\n",
    "\n",
    "\n",
    "df_filter = get_filter_df(s_agent, bp_id_0, bp_id_last, frame_id)"
   ]
  },
  {
   "cell_type": "markdown",
   "metadata": {},
   "source": [
    "### Part 5: Get $L$, $\\theta_i$, $\\Delta s_i$, $s_i^{mid}$"
   ]
  },
  {
   "cell_type": "code",
   "execution_count": 27,
   "metadata": {},
   "outputs": [],
   "source": [
    "L = get_L(df_filter)\n",
    "delta_s_list = get_delta_s_list(df_filter)\n",
    "theta_list = get_theta_list(df_filter)\n",
    "s_mid_list = get_s_mid_list(df_filter)\n",
    "\n",
    "#s_list = get_s_list(df_filter)"
   ]
  },
  {
   "cell_type": "code",
   "execution_count": 28,
   "metadata": {},
   "outputs": [
    {
     "data": {
      "text/plain": [
       "array([ 1.61744595,  5.14158785,  8.60682356, 11.90251315, 15.25582027,\n",
       "       18.18565691, 21.42707574, 24.83763981, 27.85503614])"
      ]
     },
     "execution_count": 28,
     "metadata": {},
     "output_type": "execute_result"
    }
   ],
   "source": [
    "s_mid_list"
   ]
  },
  {
   "cell_type": "code",
   "execution_count": 29,
   "metadata": {},
   "outputs": [
    {
     "data": {
      "text/plain": [
       "array([ 3.23489189,  7.04828382, 10.16536331, 13.63966298, 16.87197757,\n",
       "       19.49933624, 23.35481524, 26.32046437, 29.38960791])"
      ]
     },
     "execution_count": 29,
     "metadata": {},
     "output_type": "execute_result"
    }
   ],
   "source": [
    "s_list"
   ]
  },
  {
   "cell_type": "code",
   "execution_count": 30,
   "metadata": {},
   "outputs": [
    {
     "data": {
      "text/plain": [
       "29.389607906341553"
      ]
     },
     "execution_count": 30,
     "metadata": {},
     "output_type": "execute_result"
    }
   ],
   "source": [
    "L"
   ]
  },
  {
   "cell_type": "code",
   "execution_count": 33,
   "metadata": {},
   "outputs": [],
   "source": [
    "n = 1\n",
    "scale_factor = np.sqrt(2/L)\n",
    "summation = 0\n",
    "for delta_s, theta, s_mid in zip(delta_s_list, theta_list, s_mid_list):\n",
    "    in_cos_term = n * np.pi / L\n",
    "    cos_term = np.cos(in_cos_term * s_mid)\n",
    "    summation += delta_s * theta * cos_term\n",
    "a_n = scale_factor * summation"
   ]
  },
  {
   "cell_type": "code",
   "execution_count": 34,
   "metadata": {},
   "outputs": [
    {
     "data": {
      "text/plain": [
       "-0.38928012414175717"
      ]
     },
     "execution_count": 34,
     "metadata": {},
     "output_type": "execute_result"
    }
   ],
   "source": [
    "a_n"
   ]
  },
  {
   "cell_type": "code",
   "execution_count": 32,
   "metadata": {},
   "outputs": [
    {
     "data": {
      "image/png": "[encoded data removed]",
      "text/plain": [
       "<Figure size 576x288 with 1 Axes>"
      ]
     },
     "metadata": {
      "needs_background": "light"
     },
     "output_type": "display_data"
    }
   ],
   "source": [
    "fig, ax = plt.subplots(ncols=1, nrows=1, figsize=(8, 4))\n",
    "\n",
    "ax.plot(range(len(s_list)), s_list, '-o', label='s-list')\n",
    "ax.plot(range(len(s_mid_list)), s_mid_list, '-o', label='s-mid')\n",
    "ax.legend()\n",
    "\n",
    "plt.show()"
   ]
  },
  {
   "cell_type": "code",
   "execution_count": null,
   "metadata": {},
   "outputs": [],
   "source": []
  },
  {
   "cell_type": "code",
   "execution_count": null,
   "metadata": {},
   "outputs": [],
   "source": []
  }
 ],
 "metadata": {
  "kernelspec": {
   "display_name": "Python 3",
   "language": "python",
   "name": "python3"
  },
  "language_info": {
   "codemirror_mode": {
    "name": "ipython",
    "version": 3
   },
   "file_extension": ".py",
   "mimetype": "text/x-python",
   "name": "python",
   "nbconvert_exporter": "python",
   "pygments_lexer": "ipython3",
   "version": "3.8.5"
  }
 },
 "nbformat": 4,
 "nbformat_minor": 4
}

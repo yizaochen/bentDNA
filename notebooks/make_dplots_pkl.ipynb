{
 "cells": [
  {
   "cell_type": "code",
   "execution_count": 2,
   "metadata": {},
   "outputs": [],
   "source": [
    "import curve_pl\n",
    "import iminusj_util"
   ]
  },
  {
   "cell_type": "markdown",
   "metadata": {},
   "source": [
    "### Part 1: Initialize"
   ]
  },
  {
   "cell_type": "code",
   "execution_count": 43,
   "metadata": {},
   "outputs": [
    {
     "name": "stdout",
     "output_type": "stream",
     "text": [
      "/home/yizaochen/codes/dna_rna/length_effect/find_helical_axis/mgcl2_150mm/l_theta exists\n",
      "cd /home/yizaochen/codes/dna_rna/length_effect/find_helical_axis/mgcl2_150mm\n"
     ]
    }
   ],
   "source": [
    "host = 'mgcl2_150mm'\n",
    "l_theta = curve_pl.LmodulusTheta(host)\n",
    "print(f'cd {l_theta.rootfolder}')"
   ]
  },
  {
   "cell_type": "markdown",
   "metadata": {},
   "source": [
    "### Part 2: Calculate $|l_{i}|$, $|l_{j}|$, $\\theta_{i,j}$ for all frames"
   ]
  },
  {
   "cell_type": "code",
   "execution_count": 3,
   "metadata": {},
   "outputs": [],
   "source": [
    "# Make, if needed\n",
    "#l_theta.make_l_modulus_theta()\n",
    "#l_theta.df.head(5)"
   ]
  },
  {
   "cell_type": "code",
   "execution_count": 44,
   "metadata": {},
   "outputs": [
    {
     "data": {
      "text/html": [
       "<div>\n",
       "<style scoped>\n",
       "    .dataframe tbody tr th:only-of-type {\n",
       "        vertical-align: middle;\n",
       "    }\n",
       "\n",
       "    .dataframe tbody tr th {\n",
       "        vertical-align: top;\n",
       "    }\n",
       "\n",
       "    .dataframe thead th {\n",
       "        text-align: right;\n",
       "    }\n",
       "</style>\n",
       "<table border=\"1\" class=\"dataframe\">\n",
       "  <thead>\n",
       "    <tr style=\"text-align: right;\">\n",
       "      <th></th>\n",
       "      <th>Frame_ID</th>\n",
       "      <th>i</th>\n",
       "      <th>j</th>\n",
       "      <th>|l_i|</th>\n",
       "      <th>|l_j|</th>\n",
       "      <th>theta</th>\n",
       "    </tr>\n",
       "  </thead>\n",
       "  <tbody>\n",
       "    <tr>\n",
       "      <th>0</th>\n",
       "      <td>0</td>\n",
       "      <td>0</td>\n",
       "      <td>1</td>\n",
       "      <td>3.054191</td>\n",
       "      <td>2.419186</td>\n",
       "      <td>0.094453</td>\n",
       "    </tr>\n",
       "    <tr>\n",
       "      <th>1</th>\n",
       "      <td>0</td>\n",
       "      <td>0</td>\n",
       "      <td>2</td>\n",
       "      <td>3.054191</td>\n",
       "      <td>3.207557</td>\n",
       "      <td>0.131127</td>\n",
       "    </tr>\n",
       "    <tr>\n",
       "      <th>2</th>\n",
       "      <td>0</td>\n",
       "      <td>0</td>\n",
       "      <td>3</td>\n",
       "      <td>3.054191</td>\n",
       "      <td>3.906739</td>\n",
       "      <td>0.150629</td>\n",
       "    </tr>\n",
       "    <tr>\n",
       "      <th>3</th>\n",
       "      <td>0</td>\n",
       "      <td>0</td>\n",
       "      <td>4</td>\n",
       "      <td>3.054191</td>\n",
       "      <td>3.089777</td>\n",
       "      <td>0.229819</td>\n",
       "    </tr>\n",
       "    <tr>\n",
       "      <th>4</th>\n",
       "      <td>0</td>\n",
       "      <td>0</td>\n",
       "      <td>5</td>\n",
       "      <td>3.054191</td>\n",
       "      <td>2.829421</td>\n",
       "      <td>0.260122</td>\n",
       "    </tr>\n",
       "  </tbody>\n",
       "</table>\n",
       "</div>"
      ],
      "text/plain": [
       "   Frame_ID  i  j     |l_i|     |l_j|     theta\n",
       "0         0  0  1  3.054191  2.419186  0.094453\n",
       "1         0  0  2  3.054191  3.207557  0.131127\n",
       "2         0  0  3  3.054191  3.906739  0.150629\n",
       "3         0  0  4  3.054191  3.089777  0.229819\n",
       "4         0  0  5  3.054191  2.829421  0.260122"
      ]
     },
     "execution_count": 44,
     "metadata": {},
     "output_type": "execute_result"
    }
   ],
   "source": [
    "# Read\n",
    "l_theta.read_l_modulus_theta()\n",
    "l_theta.df.head(5)"
   ]
  },
  {
   "cell_type": "markdown",
   "metadata": {},
   "source": [
    "### Part 3: Split DataFrame into 5 parts"
   ]
  },
  {
   "cell_type": "code",
   "execution_count": 45,
   "metadata": {},
   "outputs": [
    {
     "name": "stdout",
     "output_type": "stream",
     "text": [
      "There are 2001 frames in the 1 part.\n",
      "There are 2000 frames in the 2 part.\n",
      "There are 2000 frames in the 3 part.\n",
      "There are 2000 frames in the 4 part.\n",
      "There are 2000 frames in the 5 part.\n"
     ]
    }
   ],
   "source": [
    "l_result = iminusj_util.split_df_5_parts(l_theta.df)"
   ]
  },
  {
   "cell_type": "markdown",
   "metadata": {},
   "source": [
    "### Part 4: Set d_plots and save to pkl file"
   ]
  },
  {
   "cell_type": "code",
   "execution_count": 46,
   "metadata": {},
   "outputs": [],
   "source": [
    "length_eff = curve_pl.LengthEffect(host, l_result)"
   ]
  },
  {
   "cell_type": "code",
   "execution_count": 47,
   "metadata": {},
   "outputs": [
    {
     "name": "stdout",
     "output_type": "stream",
     "text": [
      "Write /home/yizaochen/codes/dna_rna/length_effect/find_helical_axis/mgcl2_150mm/output/lp_lncos_deltatheta.pkl\n"
     ]
    }
   ],
   "source": [
    "length_eff.set_df_container()\n",
    "length_eff.set_d_plots()\n",
    "length_eff.save_d_plots_to_pkl()"
   ]
  },
  {
   "cell_type": "code",
   "execution_count": null,
   "metadata": {},
   "outputs": [],
   "source": []
  }
 ],
 "metadata": {
  "kernelspec": {
   "display_name": "Python 3",
   "language": "python",
   "name": "python3"
  },
  "language_info": {
   "codemirror_mode": {
    "name": "ipython",
    "version": 3
   },
   "file_extension": ".py",
   "mimetype": "text/x-python",
   "name": "python",
   "nbconvert_exporter": "python",
   "pygments_lexer": "ipython3",
   "version": "3.8.5"
  }
 },
 "nbformat": 4,
 "nbformat_minor": 4
}

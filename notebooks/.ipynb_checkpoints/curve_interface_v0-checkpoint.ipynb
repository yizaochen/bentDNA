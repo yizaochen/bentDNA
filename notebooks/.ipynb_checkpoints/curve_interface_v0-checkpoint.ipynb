{
 "cells": [
  {
   "cell_type": "code",
   "execution_count": 1,
   "metadata": {},
   "outputs": [],
   "source": [
    "from os import path\n",
    "import MDAnalysis as mda\n",
    "from bentdna.PDB import PDBReader, PDBWriter\n",
    "from bentdna.find_haxis_curve import FindHelixAgent, PrepareHelix"
   ]
  },
  {
   "cell_type": "markdown",
   "metadata": {},
   "source": [
    "### Part 0: Prepare Required file"
   ]
  },
  {
   "cell_type": "code",
   "execution_count": 2,
   "metadata": {},
   "outputs": [
    {
     "name": "stdout",
     "output_type": "stream",
     "text": [
      "/home/yizaochen/codes/bentdna/tests/pnas_16mer/input exists\n",
      "/home/yizaochen/codes/bentdna/tests/pnas_16mer/output exists\n",
      "cd /home/yizaochen/codes/bentdna/tests/pnas_16mer\n"
     ]
    }
   ],
   "source": [
    "host = 'pnas_16mer'\n",
    "n_bp = 16\n",
    "find_helix_folder = '/home/yizaochen/codes/bentdna/tests'\n",
    "\n",
    "prep_helix = PrepareHelix(find_helix_folder, host, n_bp)\n",
    "print(f'cd {prep_helix.workfolder}')"
   ]
  },
  {
   "cell_type": "code",
   "execution_count": 3,
   "metadata": {},
   "outputs": [
    {
     "name": "stdout",
     "output_type": "stream",
     "text": [
      "cp /home/yizaochen/codes/dna_rna/all_systems/pnas_16mer/bdna+bdna/input/allatoms/bdna+bdna.all.xtc /home/yizaochen/codes/bentdna/tests/pnas_16mer/input/bdna+bdna.all.xtc\n",
      "cp /home/yizaochen/codes/dna_rna/all_systems/pnas_16mer/bdna+bdna/input/allatoms/bdna+bdna.npt4.all.pdb /home/yizaochen/codes/bentdna/tests/pnas_16mer/input/bdna+bdna.npt4.all.pdb\n"
     ]
    }
   ],
   "source": [
    "prep_helix.copy_input_xtc()\n",
    "prep_helix.copy_input_pdb()"
   ]
  },
  {
   "cell_type": "markdown",
   "metadata": {},
   "source": [
    "### Cut trajectory for testcase\n",
    "`gmx trjcat -f bdna+bdna.all.xtc -o temp.xtc -e 1000`  \n",
    "`mv temp.xtc bdna+bdna.all.xtc`"
   ]
  },
  {
   "cell_type": "markdown",
   "metadata": {},
   "source": [
    "### Part 1: assign number of base-pairs"
   ]
  },
  {
   "cell_type": "code",
   "execution_count": 3,
   "metadata": {},
   "outputs": [],
   "source": [
    "n_bp = 16\n",
    "pdb_in = path.join(prep_helix.input_folder, 'bdna+bdna.npt4.all.pdb')\n",
    "xtc_in = path.join(prep_helix.input_folder, 'bdna+bdna.all.xtc')"
   ]
  },
  {
   "cell_type": "markdown",
   "metadata": {},
   "source": [
    "### Part 2: Convert xtc to dcd"
   ]
  },
  {
   "cell_type": "code",
   "execution_count": 4,
   "metadata": {},
   "outputs": [
    {
     "name": "stdout",
     "output_type": "stream",
     "text": [
      "vmd -pdb /home/yizaochen/codes/bentdna/tests/pnas_16mer/input/bdna+bdna.npt4.all.pdb /home/yizaochen/codes/bentdna/tests/pnas_16mer/input/bdna+bdna.all.xtc\n",
      "In vmd tkconsole\n",
      "animate write dcd /home/yizaochen/codes/bentdna/tests/pnas_16mer/input/bdna+bdna.0_1ns.10frames.dcd beg 1 end 11 waitfor all\n"
     ]
    }
   ],
   "source": [
    "cmd = f'vmd -pdb {prep_helix.pdb_in} {prep_helix.xtc_in}'\n",
    "print(cmd)\n",
    "\n",
    "# In vmd tkconsole\n",
    "dcd_out = path.join(prep_helix.input_folder, 'bdna+bdna.0_1ns.10frames.dcd')\n",
    "print('In vmd tkconsole')\n",
    "cmd = f'animate write dcd {dcd_out} beg 1 end 11 waitfor all'\n",
    "print(cmd)"
   ]
  },
  {
   "cell_type": "markdown",
   "metadata": {},
   "source": [
    "### Part 3: Change B-chain ID from 1-16 to 17-32"
   ]
  },
  {
   "cell_type": "code",
   "execution_count": 5,
   "metadata": {},
   "outputs": [
    {
     "name": "stdout",
     "output_type": "stream",
     "text": [
      "vim /home/yizaochen/codes/bentdna/tests/pnas_16mer/input/bdna+bdna.npt4.all.pdb\n"
     ]
    }
   ],
   "source": [
    "pdb_modified = path.join(prep_helix.input_folder, 'bdna_modi.pdb')\n",
    "# check pdb, to see whether require to change resid\n",
    "cmd = f'vim {prep_helix.pdb_in}'\n",
    "print(cmd)"
   ]
  },
  {
   "cell_type": "code",
   "execution_count": 11,
   "metadata": {},
   "outputs": [
    {
     "name": "stdout",
     "output_type": "stream",
     "text": [
      "Write PDB: /home/yizaochen/codes/bentdna/tests/pnas_16mer/input/bdna_modi.pdb\n"
     ]
    }
   ],
   "source": [
    "reader = PDBReader(pdb_in, segid_exist=True)\n",
    "atgs = reader.get_atomgroup()\n",
    "\n",
    "# Change resid\n",
    "resid_offset = n_bp\n",
    "for atom in atgs:\n",
    "    if atom.segid == 'B':\n",
    "        atom.resid += resid_offset\n",
    "        \n",
    "\n",
    "writer = PDBWriter(pdb_modified, atgs)\n",
    "writer.write_pdb()"
   ]
  },
  {
   "cell_type": "markdown",
   "metadata": {},
   "source": [
    "### Part 4: Initialize FindHelixAgent"
   ]
  },
  {
   "cell_type": "code",
   "execution_count": 6,
   "metadata": {},
   "outputs": [
    {
     "name": "stdout",
     "output_type": "stream",
     "text": [
      "/home/yizaochen/codes/bentdna/tests/pnas_16mer/pdbs_allatoms exists\n",
      "/home/yizaochen/codes/bentdna/tests/pnas_16mer/curve_workdir_0_11 exists\n",
      "/home/yizaochen/codes/bentdna/tests/pnas_16mer/pdbs_haxis exists\n",
      "mkdir /home/yizaochen/codes/bentdna/tests/pnas_16mer/haxis_smooth\n",
      "There are 11 frames.\n"
     ]
    },
    {
     "name": "stderr",
     "output_type": "stream",
     "text": [
      "/home/yizaochen/miniconda3/envs/bentdna/lib/python3.8/site-packages/MDAnalysis/topology/PDBParser.py:330: UserWarning: Element information is absent or missing for a few atoms. Elements attributes will not be populated.\n",
      "  warnings.warn(\"Element information is absent or missing for a few \"\n"
     ]
    }
   ],
   "source": [
    "f_agent = FindHelixAgent(prep_helix.workfolder, pdb_modified, dcd_out, n_bp)"
   ]
  },
  {
   "cell_type": "markdown",
   "metadata": {},
   "source": [
    "### Part 5: Extract single pdb from dcd"
   ]
  },
  {
   "cell_type": "code",
   "execution_count": 16,
   "metadata": {},
   "outputs": [],
   "source": [
    "f_agent.extract_pdb_allatoms()"
   ]
  },
  {
   "cell_type": "markdown",
   "metadata": {},
   "source": [
    "### Part 6: Execute Curve+ and Convert to H-axis pdb"
   ]
  },
  {
   "cell_type": "code",
   "execution_count": 7,
   "metadata": {},
   "outputs": [
    {
     "name": "stdout",
     "output_type": "stream",
     "text": [
      "cp /home/yizaochen/codes/bentdna/tests/pnas_16mer/curve_workdir_0_11/r+bdna_X.pdb /home/yizaochen/codes/bentdna/tests/pnas_16mer/haxis_smooth/haxis.smooth.0.pdb\n",
      "cp /home/yizaochen/codes/bentdna/tests/pnas_16mer/curve_workdir_0_11/r+bdna_X.pdb /home/yizaochen/codes/bentdna/tests/pnas_16mer/haxis_smooth/haxis.smooth.1.pdb\n",
      "cp /home/yizaochen/codes/bentdna/tests/pnas_16mer/curve_workdir_0_11/r+bdna_X.pdb /home/yizaochen/codes/bentdna/tests/pnas_16mer/haxis_smooth/haxis.smooth.2.pdb\n",
      "cp /home/yizaochen/codes/bentdna/tests/pnas_16mer/curve_workdir_0_11/r+bdna_X.pdb /home/yizaochen/codes/bentdna/tests/pnas_16mer/haxis_smooth/haxis.smooth.3.pdb\n",
      "cp /home/yizaochen/codes/bentdna/tests/pnas_16mer/curve_workdir_0_11/r+bdna_X.pdb /home/yizaochen/codes/bentdna/tests/pnas_16mer/haxis_smooth/haxis.smooth.4.pdb\n",
      "cp /home/yizaochen/codes/bentdna/tests/pnas_16mer/curve_workdir_0_11/r+bdna_X.pdb /home/yizaochen/codes/bentdna/tests/pnas_16mer/haxis_smooth/haxis.smooth.5.pdb\n",
      "cp /home/yizaochen/codes/bentdna/tests/pnas_16mer/curve_workdir_0_11/r+bdna_X.pdb /home/yizaochen/codes/bentdna/tests/pnas_16mer/haxis_smooth/haxis.smooth.6.pdb\n",
      "cp /home/yizaochen/codes/bentdna/tests/pnas_16mer/curve_workdir_0_11/r+bdna_X.pdb /home/yizaochen/codes/bentdna/tests/pnas_16mer/haxis_smooth/haxis.smooth.7.pdb\n",
      "cp /home/yizaochen/codes/bentdna/tests/pnas_16mer/curve_workdir_0_11/r+bdna_X.pdb /home/yizaochen/codes/bentdna/tests/pnas_16mer/haxis_smooth/haxis.smooth.8.pdb\n",
      "cp /home/yizaochen/codes/bentdna/tests/pnas_16mer/curve_workdir_0_11/r+bdna_X.pdb /home/yizaochen/codes/bentdna/tests/pnas_16mer/haxis_smooth/haxis.smooth.9.pdb\n",
      "cp /home/yizaochen/codes/bentdna/tests/pnas_16mer/curve_workdir_0_11/r+bdna_X.pdb /home/yizaochen/codes/bentdna/tests/pnas_16mer/haxis_smooth/haxis.smooth.10.pdb\n"
     ]
    }
   ],
   "source": [
    "f_agent.curveplus_find_smooth_haxis()\n",
    "#f_agent.curveplus_find_haxis()"
   ]
  },
  {
   "cell_type": "markdown",
   "metadata": {},
   "source": [
    "### Part 7: Use VMD to show"
   ]
  },
  {
   "cell_type": "code",
   "execution_count": null,
   "metadata": {},
   "outputs": [],
   "source": [
    "rootfolder = '/home/yizaochen/codes/bentdna/tests'\n",
    "host = 'pnas_16mer'\n",
    "workfolder = path.join(rootfolder, host)"
   ]
  },
  {
   "cell_type": "code",
   "execution_count": null,
   "metadata": {},
   "outputs": [],
   "source": [
    "frame_id = 0\n",
    "allatom_pdb = path.join(workfolder, 'pdbs_allatoms', f'{frame_id}.pdb')\n",
    "haxis_pdb = path.join(workfolder, 'haxis_smooth', f'haxis.smooth.{frame_id}.pdb')\n",
    "\n",
    "cmd = 'cd /home/yizaochen/codes/bentdna'\n",
    "print(cmd)\n",
    "\n",
    "cmd = f'vmd -pdb {allatom_pdb}'\n",
    "print(cmd)\n",
    "\n",
    "cmd = f'mol new {haxis_pdb} type pdb'\n",
    "print(cmd)\n",
    "\n",
    "cmd = f'source ./tcl/draw_aa_haxis.tcl'\n",
    "print(cmd)"
   ]
  },
  {
   "cell_type": "markdown",
   "metadata": {},
   "source": [
    "### Part 8: rm pdb_allatoms"
   ]
  },
  {
   "cell_type": "code",
   "execution_count": 4,
   "metadata": {},
   "outputs": [
    {
     "name": "stdout",
     "output_type": "stream",
     "text": [
      "rm /home/yizaochen/codes/dna_rna/length_effect/find_helical_axis/pnas_16mer/pdbs_allatoms/*\n"
     ]
    }
   ],
   "source": [
    "\"\"\"\n",
    "allpdbs = path.join(prep_helix.workfolder, 'pdbs_allatoms', '*')\n",
    "cmd = f'rm {allpdbs}'\n",
    "print(cmd)\n",
    "\"\"\""
   ]
  },
  {
   "cell_type": "markdown",
   "metadata": {},
   "source": [
    "### Useful commands"
   ]
  },
  {
   "cell_type": "markdown",
   "metadata": {},
   "source": [
    "- cat 0.pdb | grep 'ATOM      1'"
   ]
  }
 ],
 "metadata": {
  "kernelspec": {
   "display_name": "Python 3",
   "language": "python",
   "name": "python3"
  },
  "language_info": {
   "codemirror_mode": {
    "name": "ipython",
    "version": 3
   },
   "file_extension": ".py",
   "mimetype": "text/x-python",
   "name": "python",
   "nbconvert_exporter": "python",
   "pygments_lexer": "ipython3",
   "version": "3.8.5"
  }
 },
 "nbformat": 4,
 "nbformat_minor": 4
}

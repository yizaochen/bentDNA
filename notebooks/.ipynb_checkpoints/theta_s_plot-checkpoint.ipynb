{
 "cells": [
  {
   "cell_type": "code",
   "execution_count": 35,
   "metadata": {},
   "outputs": [],
   "source": [
    "from os import path\n",
    "import numpy as np\n",
    "import matplotlib.pyplot as plt\n",
    "from bentdna import shapefourier\n",
    "bentna_folder = '/home/yizaochen/codes/bentdna'"
   ]
  },
  {
   "cell_type": "markdown",
   "metadata": {},
   "source": [
    "### Part 1: Initialize"
   ]
  },
  {
   "cell_type": "code",
   "execution_count": 2,
   "metadata": {},
   "outputs": [],
   "source": [
    "workfolder = path.join(bentna_folder, 'tests')\n",
    "host = 'pnas_16mer'\n",
    "s_agent = shapefourier.ShapeAgent(workfolder, host)"
   ]
  },
  {
   "cell_type": "markdown",
   "metadata": {},
   "source": [
    "### Part 2: Read $l_i$ and $\\theta$"
   ]
  },
  {
   "cell_type": "code",
   "execution_count": 3,
   "metadata": {},
   "outputs": [],
   "source": [
    "s_agent.read_l_modulus_theta()"
   ]
  },
  {
   "cell_type": "code",
   "execution_count": 4,
   "metadata": {},
   "outputs": [
    {
     "data": {
      "text/html": [
       "<div>\n",
       "<style scoped>\n",
       "    .dataframe tbody tr th:only-of-type {\n",
       "        vertical-align: middle;\n",
       "    }\n",
       "\n",
       "    .dataframe tbody tr th {\n",
       "        vertical-align: top;\n",
       "    }\n",
       "\n",
       "    .dataframe thead th {\n",
       "        text-align: right;\n",
       "    }\n",
       "</style>\n",
       "<table border=\"1\" class=\"dataframe\">\n",
       "  <thead>\n",
       "    <tr style=\"text-align: right;\">\n",
       "      <th></th>\n",
       "      <th>Frame_ID</th>\n",
       "      <th>i</th>\n",
       "      <th>j</th>\n",
       "      <th>|l_i|</th>\n",
       "      <th>|l_j|</th>\n",
       "      <th>theta</th>\n",
       "    </tr>\n",
       "  </thead>\n",
       "  <tbody>\n",
       "    <tr>\n",
       "      <th>0</th>\n",
       "      <td>0</td>\n",
       "      <td>0</td>\n",
       "      <td>1</td>\n",
       "      <td>3.624648</td>\n",
       "      <td>2.808781</td>\n",
       "      <td>0.077684</td>\n",
       "    </tr>\n",
       "    <tr>\n",
       "      <th>1</th>\n",
       "      <td>0</td>\n",
       "      <td>0</td>\n",
       "      <td>2</td>\n",
       "      <td>3.624648</td>\n",
       "      <td>3.561358</td>\n",
       "      <td>0.147521</td>\n",
       "    </tr>\n",
       "    <tr>\n",
       "      <th>2</th>\n",
       "      <td>0</td>\n",
       "      <td>0</td>\n",
       "      <td>3</td>\n",
       "      <td>3.624648</td>\n",
       "      <td>3.352424</td>\n",
       "      <td>0.188460</td>\n",
       "    </tr>\n",
       "    <tr>\n",
       "      <th>3</th>\n",
       "      <td>0</td>\n",
       "      <td>0</td>\n",
       "      <td>4</td>\n",
       "      <td>3.624648</td>\n",
       "      <td>3.560380</td>\n",
       "      <td>0.182551</td>\n",
       "    </tr>\n",
       "    <tr>\n",
       "      <th>4</th>\n",
       "      <td>0</td>\n",
       "      <td>0</td>\n",
       "      <td>5</td>\n",
       "      <td>3.624648</td>\n",
       "      <td>3.403866</td>\n",
       "      <td>0.089722</td>\n",
       "    </tr>\n",
       "    <tr>\n",
       "      <th>5</th>\n",
       "      <td>0</td>\n",
       "      <td>0</td>\n",
       "      <td>6</td>\n",
       "      <td>3.624648</td>\n",
       "      <td>2.764086</td>\n",
       "      <td>0.069614</td>\n",
       "    </tr>\n",
       "    <tr>\n",
       "      <th>6</th>\n",
       "      <td>0</td>\n",
       "      <td>0</td>\n",
       "      <td>7</td>\n",
       "      <td>3.624648</td>\n",
       "      <td>3.467232</td>\n",
       "      <td>0.083026</td>\n",
       "    </tr>\n",
       "    <tr>\n",
       "      <th>7</th>\n",
       "      <td>0</td>\n",
       "      <td>0</td>\n",
       "      <td>8</td>\n",
       "      <td>3.624648</td>\n",
       "      <td>3.160709</td>\n",
       "      <td>0.186142</td>\n",
       "    </tr>\n",
       "    <tr>\n",
       "      <th>8</th>\n",
       "      <td>0</td>\n",
       "      <td>0</td>\n",
       "      <td>9</td>\n",
       "      <td>3.624648</td>\n",
       "      <td>2.749290</td>\n",
       "      <td>0.213325</td>\n",
       "    </tr>\n",
       "    <tr>\n",
       "      <th>9</th>\n",
       "      <td>0</td>\n",
       "      <td>0</td>\n",
       "      <td>10</td>\n",
       "      <td>3.624648</td>\n",
       "      <td>3.569155</td>\n",
       "      <td>0.105919</td>\n",
       "    </tr>\n",
       "  </tbody>\n",
       "</table>\n",
       "</div>"
      ],
      "text/plain": [
       "   Frame_ID  i   j     |l_i|     |l_j|     theta\n",
       "0         0  0   1  3.624648  2.808781  0.077684\n",
       "1         0  0   2  3.624648  3.561358  0.147521\n",
       "2         0  0   3  3.624648  3.352424  0.188460\n",
       "3         0  0   4  3.624648  3.560380  0.182551\n",
       "4         0  0   5  3.624648  3.403866  0.089722\n",
       "5         0  0   6  3.624648  2.764086  0.069614\n",
       "6         0  0   7  3.624648  3.467232  0.083026\n",
       "7         0  0   8  3.624648  3.160709  0.186142\n",
       "8         0  0   9  3.624648  2.749290  0.213325\n",
       "9         0  0  10  3.624648  3.569155  0.105919"
      ]
     },
     "execution_count": 4,
     "metadata": {},
     "output_type": "execute_result"
    }
   ],
   "source": [
    "s_agent.df.head(10)"
   ]
  },
  {
   "cell_type": "markdown",
   "metadata": {},
   "source": [
    "### Part 3: Filter function"
   ]
  },
  {
   "cell_type": "code",
   "execution_count": 62,
   "metadata": {},
   "outputs": [],
   "source": [
    "def get_filter_df(s_agent, bp_id_0, bp_id_last, frame_id):\n",
    "    mask = (s_agent.df['i'] == bp_id_0)\n",
    "    df0 = s_agent.df[mask]\n",
    "    mask = (df0['Frame_ID'] == frame_id)\n",
    "    df1 = df0[mask]\n",
    "    mask = (df1['j'].between(bp_id_0+1, bp_id_last))\n",
    "    df2 = df1[mask]\n",
    "    return df2\n",
    "\n",
    "def get_theta_s_list(df):\n",
    "    l_norm_list = df['|l_j|'].tolist()\n",
    "    theta_data = df['theta'].tolist()\n",
    "    \n",
    "    n_bp = df.shape[0] + 1\n",
    "    theta_list = np.zeros(n_bp)\n",
    "    s_list = np.zeros(n_bp)\n",
    "    \n",
    "    s = 0\n",
    "    for i, l_norm in enumerate(l_norm_list):\n",
    "        s += l_norm\n",
    "        theta_list[i+1] = theta_data[i]\n",
    "        s_list[i+1] = s\n",
    "    return theta_list, s_list\n",
    "\n",
    "def plot_theta_s(ax, s_list, theta_list, frame_id, lbfz, ttfz, xmin, xmax, ymin, ymax):\n",
    "    ax.plot(s_list, np.rad2deg(theta_list), '-o')\n",
    "    ax.set_ylabel(r'$\\theta(s)~~(^o)$', fontsize=lbfz)\n",
    "    ax.set_xlabel(r's ($\\AA$)', fontsize=lbfz)\n",
    "    ax.set_title(f'Frame {frame_id}', fontsize=ttfz)\n",
    "    ax.set_xlim(xmin, xmax)\n",
    "    ax.set_ylim(ymin, ymax)\n",
    "    return ax"
   ]
  },
  {
   "cell_type": "markdown",
   "metadata": {},
   "source": [
    "### Part 4: Single Plot"
   ]
  },
  {
   "cell_type": "code",
   "execution_count": 68,
   "metadata": {},
   "outputs": [
    {
     "data": {
      "image/png": "[encoded data removed]",
      "text/plain": [
       "<Figure size 576x288 with 1 Axes>"
      ]
     },
     "metadata": {
      "needs_background": "light"
     },
     "output_type": "display_data"
    }
   ],
   "source": [
    "frame_id = 1\n",
    "bp_id_0 = 3\n",
    "bp_id_last = 12\n",
    "lbfz = 16\n",
    "ttfz = 18\n",
    "xmin = -1\n",
    "xmax = 33\n",
    "ymin = -1\n",
    "ymax = 30\n",
    "\n",
    "df_filter = get_filter_df(s_agent, bp_id_0, bp_id_last, frame_id)\n",
    "theta_list, s_list = get_theta_s_list(df_filter)\n",
    "\n",
    "fig, ax = plt.subplots(ncols=1, nrows=1, figsize=(8,4))\n",
    "ax = plot_theta_s(ax, s_list, theta_list, frame_id, lbfz, ttfz, xmin, xmax, ymin, ymax)\n",
    "\n",
    "plt.show()"
   ]
  },
  {
   "cell_type": "markdown",
   "metadata": {},
   "source": [
    "### Part 5: Multiple Plots"
   ]
  },
  {
   "cell_type": "code",
   "execution_count": 70,
   "metadata": {},
   "outputs": [
    {
     "data": {
      "image/png": "[encoded data removed]",
      "text/plain": [
       "<Figure size 1296x288 with 3 Axes>"
      ]
     },
     "metadata": {
      "needs_background": "light"
     },
     "output_type": "display_data"
    }
   ],
   "source": [
    "lbfz = 16\n",
    "ttfz = 18\n",
    "xmin = -1\n",
    "xmax = 33\n",
    "ymin = -1\n",
    "ymax = 30\n",
    "bp_id_0 = 3\n",
    "bp_id_last = 12\n",
    "\n",
    "fig, axes = plt.subplots(ncols=3, nrows=1, figsize=(18,4))\n",
    "\n",
    "ax = axes[0]\n",
    "frame_id = 0\n",
    "df_filter = get_filter_df(s_agent, bp_id_0, bp_id_last, frame_id)\n",
    "theta_list, s_list = get_theta_s_list(df_filter)\n",
    "ax = plot_theta_s(ax, s_list, theta_list, frame_id, lbfz, ttfz, xmin, xmax, ymin, ymax)\n",
    "\n",
    "ax = axes[1]\n",
    "frame_id = 5000\n",
    "df_filter = get_filter_df(s_agent, bp_id_0, bp_id_last, frame_id)\n",
    "theta_list, s_list = get_theta_s_list(df_filter)\n",
    "ax = plot_theta_s(ax, s_list, theta_list, frame_id, lbfz, ttfz, xmin, xmax, ymin, ymax)\n",
    "\n",
    "ax = axes[2]\n",
    "frame_id = 10000\n",
    "df_filter = get_filter_df(s_agent, bp_id_0, bp_id_last, frame_id)\n",
    "theta_list, s_list = get_theta_s_list(df_filter)\n",
    "ax = plot_theta_s(ax, s_list, theta_list, frame_id, lbfz, ttfz, xmin, xmax, ymin, ymax)\n",
    "\n",
    "plt.savefig(\"three_frames.png\", dpi=100)\n",
    "plt.show()"
   ]
  },
  {
   "cell_type": "markdown",
   "metadata": {},
   "source": [
    "### Additional Part 1: Find max($\\theta$)"
   ]
  },
  {
   "cell_type": "code",
   "execution_count": 65,
   "metadata": {},
   "outputs": [
    {
     "data": {
      "text/plain": [
       "71.20854854093437"
      ]
     },
     "execution_count": 65,
     "metadata": {},
     "output_type": "execute_result"
    }
   ],
   "source": [
    "mask = (s_agent.df['i'] == bp_id_0)\n",
    "df0 = s_agent.df[mask]\n",
    "mask = (df0['j'].between(bp_id_0+1, bp_id_last))\n",
    "df1 = df0[mask]\n",
    "np.rad2deg(df0['theta'].max())"
   ]
  },
  {
   "cell_type": "code",
   "execution_count": null,
   "metadata": {},
   "outputs": [],
   "source": []
  }
 ],
 "metadata": {
  "kernelspec": {
   "display_name": "Python 3",
   "language": "python",
   "name": "python3"
  },
  "language_info": {
   "codemirror_mode": {
    "name": "ipython",
    "version": 3
   },
   "file_extension": ".py",
   "mimetype": "text/x-python",
   "name": "python",
   "nbconvert_exporter": "python",
   "pygments_lexer": "ipython3",
   "version": "3.8.5"
  }
 },
 "nbformat": 4,
 "nbformat_minor": 4
}

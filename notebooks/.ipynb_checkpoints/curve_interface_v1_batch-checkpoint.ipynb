{
 "cells": [
  {
   "cell_type": "code",
   "execution_count": 1,
   "metadata": {},
   "outputs": [],
   "source": [
    "from os import path, system\n",
    "from bentdna.PDB import PDBReader, PDBWriter\n",
    "from bentdna.find_haxis_curve import FindHelixAgent, PrepareHelix\n",
    "find_helix_folder = '/home/yizaochen/codes/dna_rna/length_effect/find_helical_axis'"
   ]
  },
  {
   "cell_type": "markdown",
   "metadata": {},
   "source": [
    "### Part 1: Batch Running"
   ]
  },
  {
   "cell_type": "code",
   "execution_count": null,
   "metadata": {},
   "outputs": [],
   "source": [
    "hosts = ['tat_21mer', 'g_tract_21mer']\n",
    "n_bp = 21\n",
    "for host in hosts:\n",
    "    prep_helix = PrepareHelix(find_helix_folder, host, n_bp)\n",
    "    #f_agent = FindHelixAgent(prep_helix.workfolder, prep_helix.pdb_modi, prep_helix.dcd_out, n_bp)\n",
    "    #f_agent.extract_pdb_allatoms()\n",
    "    #f_agent.curveplus_find_haxis()"
   ]
  },
  {
   "cell_type": "code",
   "execution_count": null,
   "metadata": {},
   "outputs": [],
   "source": [
    "hosts = ['gcgc_21mer', 'tat_1_21mer', 'tat_2_21mer', 'tat_3_21mer', 'atat_21mer']\n",
    "n_bp = 21\n",
    "for host in hosts:\n",
    "    prep_helix = PrepareHelix(find_helix_folder, host, n_bp)\n",
    "    f_agent = FindHelixAgent(prep_helix.workfolder, prep_helix.pdb_modi, prep_helix.dcd_out, n_bp)\n",
    "    #f_agent.extract_pdb_allatoms()\n",
    "    #f_agent.curveplus_find_haxis()"
   ]
  },
  {
   "cell_type": "markdown",
   "metadata": {},
   "source": [
    "### Part 2: After Curve+, Use VMD to show"
   ]
  },
  {
   "cell_type": "code",
   "execution_count": 4,
   "metadata": {},
   "outputs": [
    {
     "name": "stdout",
     "output_type": "stream",
     "text": [
      "/home/yizaochen/codes/dna_rna/length_effect/find_helical_axis/tat_21mer/input exists\n",
      "/home/yizaochen/codes/dna_rna/length_effect/find_helical_axis/tat_21mer/output exists\n"
     ]
    }
   ],
   "source": [
    "host = 'g_tract_21mer'\n",
    "n_bp = 21\n",
    "prep_helix = PrepareHelix(find_helix_folder, host, n_bp)"
   ]
  },
  {
   "cell_type": "code",
   "execution_count": 5,
   "metadata": {},
   "outputs": [
    {
     "name": "stdout",
     "output_type": "stream",
     "text": [
      "cd /home/yizaochen/codes/dna_rna/length_effect/find_helical_axis/tat_21mer/pdbs_haxis\n",
      "vmd\n",
      "source /home/yizaochen/codes/na_mechanics/make_haxis.tcl\n",
      "read_all_pdb_files 0 50000\n",
      "animate write dcd /home/yizaochen/codes/dna_rna/length_effect/find_helical_axis/tat_21mer/output/haxis.dcd beg 0 end 50000 waitfor all\n"
     ]
    }
   ],
   "source": [
    "haxis_folder = path.join(prep_helix.workfolder, 'pdbs_haxis')\n",
    "cmd = f'cd {haxis_folder}'\n",
    "print(cmd)\n",
    "\n",
    "cmd = 'vmd'\n",
    "print(cmd)\n",
    "\n",
    "haxis_tcl = '/home/yizaochen/codes/na_mechanics/make_haxis.tcl'\n",
    "cmd = f'source {haxis_tcl}'\n",
    "print(cmd)\n",
    "\n",
    "start = 0\n",
    "end = prep_helix.lastframe\n",
    "cmd = f'read_all_pdb_files {start} {end}'\n",
    "print(cmd)\n",
    "\n",
    "haxis_dcd = path.join(prep_helix.output_folder, 'haxis.dcd')\n",
    "cmd = f'animate write dcd {haxis_dcd} beg {start} end {end} waitfor all'\n",
    "print(cmd)"
   ]
  },
  {
   "cell_type": "code",
   "execution_count": 6,
   "metadata": {},
   "outputs": [
    {
     "name": "stdout",
     "output_type": "stream",
     "text": [
      "vmd -pdb /home/yizaochen/codes/dna_rna/length_effect/find_helical_axis/tat_21mer/pdbs_haxis/haxis.0.pdb /home/yizaochen/codes/dna_rna/length_effect/find_helical_axis/tat_21mer/output/haxis.dcd\n",
      "mol new /home/yizaochen/codes/dna_rna/length_effect/find_helical_axis/tat_21mer/input/bdna_modi.pdb\n",
      "mol addfile /home/yizaochen/codes/dna_rna/length_effect/find_helical_axis/tat_21mer/input/bdna+bdna.0_5000ns.50000frames.dcd 1 waitfor 1\n"
     ]
    }
   ],
   "source": [
    "pdb_ref = path.join(prep_helix.workfolder, 'pdbs_haxis', 'haxis.0.pdb')\n",
    "cmd = f'vmd -pdb {pdb_ref} {haxis_dcd}'\n",
    "print(cmd)\n",
    "\n",
    "cmd = f'mol new {prep_helix.pdb_modi}'\n",
    "print(cmd)\n",
    "\n",
    "cmd = f'mol addfile {prep_helix.dcd_out} 1 waitfor 1'  \n",
    "print(cmd)"
   ]
  },
  {
   "cell_type": "markdown",
   "metadata": {},
   "source": [
    "### Useful commands"
   ]
  },
  {
   "cell_type": "markdown",
   "metadata": {},
   "source": [
    "- cat 0.pdb | grep 'ATOM      1'"
   ]
  },
  {
   "cell_type": "code",
   "execution_count": null,
   "metadata": {},
   "outputs": [],
   "source": []
  }
 ],
 "metadata": {
  "kernelspec": {
   "display_name": "Python 3",
   "language": "python",
   "name": "python3"
  },
  "language_info": {
   "codemirror_mode": {
    "name": "ipython",
    "version": 3
   },
   "file_extension": ".py",
   "mimetype": "text/x-python",
   "name": "python",
   "nbconvert_exporter": "python",
   "pygments_lexer": "ipython3",
   "version": "3.8.5"
  }
 },
 "nbformat": 4,
 "nbformat_minor": 4
}

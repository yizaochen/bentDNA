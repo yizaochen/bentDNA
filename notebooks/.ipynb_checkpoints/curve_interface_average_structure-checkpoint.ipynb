{
 "cells": [
  {
   "cell_type": "code",
   "execution_count": 2,
   "metadata": {},
   "outputs": [],
   "source": [
    "from os import path\n",
    "import MDAnalysis as mda\n",
    "from bentdna.PDB import PDBReader, PDBWriter\n",
    "from bentdna.find_haxis_curve import AvgAgent, FindHelixAgent, PrepareHelix\n",
    "findhelix_folder = '/home/yizaochen/codes/dna_rna/length_effect/find_helical_axis'"
   ]
  },
  {
   "cell_type": "markdown",
   "metadata": {},
   "source": [
    "### Part 0: Initialize"
   ]
  },
  {
   "cell_type": "code",
   "execution_count": 19,
   "metadata": {},
   "outputs": [
    {
     "name": "stdout",
     "output_type": "stream",
     "text": [
      "/home/yizaochen/codes/dna_rna/length_effect/find_helical_axis/gcgc_21mer/input exists\n",
      "mkdir /home/yizaochen/codes/dna_rna/length_effect/find_helical_axis/gcgc_21mer/avg_structure\n"
     ]
    }
   ],
   "source": [
    "host = 'ctct_21mer'\n",
    "a_agent = AvgAgent(findhelix_folder, host)"
   ]
  },
  {
   "cell_type": "markdown",
   "metadata": {},
   "source": [
    "### Part 1: Convert avg.crd to avg.pdb"
   ]
  },
  {
   "cell_type": "code",
   "execution_count": 20,
   "metadata": {},
   "outputs": [
    {
     "name": "stdout",
     "output_type": "stream",
     "text": [
      "Convert /home/yizaochen/codes/dna_rna/all_systems/gcgc_21mer/bdna+bdna/input/heavyatoms/bdna+bdna.nohydrogen.avg.crd to /home/yizaochen/codes/dna_rna/all_systems/gcgc_21mer/bdna+bdna/input/heavyatoms/bdna+bdna.nohydrogen.avg.pdb\n",
      "Check by:\n",
      "vmd -pdb /home/yizaochen/codes/dna_rna/all_systems/gcgc_21mer/bdna+bdna/input/heavyatoms/bdna+bdna.nohydrogen.avg.pdb\n"
     ]
    }
   ],
   "source": [
    "a_agent.convert_crd_to_pdb()"
   ]
  },
  {
   "cell_type": "markdown",
   "metadata": {},
   "source": [
    "### Part 2: Change B-chain ID from 1-21 to 22-42"
   ]
  },
  {
   "cell_type": "code",
   "execution_count": 21,
   "metadata": {},
   "outputs": [
    {
     "name": "stdout",
     "output_type": "stream",
     "text": [
      "vim /home/yizaochen/codes/dna_rna/all_systems/gcgc_21mer/bdna+bdna/input/heavyatoms/bdna+bdna.nohydrogen.avg.pdb\n"
     ]
    }
   ],
   "source": [
    "# check pdb, to see whether require to change resid\n",
    "cmd = f'vim {a_agent.avg_pdb}'\n",
    "print(cmd)"
   ]
  },
  {
   "cell_type": "code",
   "execution_count": 22,
   "metadata": {},
   "outputs": [
    {
     "name": "stdout",
     "output_type": "stream",
     "text": [
      "cp /home/yizaochen/codes/dna_rna/all_systems/gcgc_21mer/bdna+bdna/input/heavyatoms/bdna+bdna.nohydrogen.avg.pdb /home/yizaochen/codes/dna_rna/all_systems/gcgc_21mer/bdna+bdna/input/heavyatoms/bdna+bdna.nohydrogen.avg.backup.pdb\n"
     ]
    }
   ],
   "source": [
    "a_agent.backup_avg_pdb()"
   ]
  },
  {
   "cell_type": "code",
   "execution_count": 23,
   "metadata": {},
   "outputs": [
    {
     "name": "stdout",
     "output_type": "stream",
     "text": [
      "Write PDB: /home/yizaochen/codes/dna_rna/length_effect/find_helical_axis/gcgc_21mer/input/bdna_modi_avg.pdb\n"
     ]
    }
   ],
   "source": [
    "change = True # True or False\n",
    "if change:\n",
    "    a_agent.change_resid_to_modi()"
   ]
  },
  {
   "cell_type": "markdown",
   "metadata": {},
   "source": [
    "### Part 3: Execute Curves+ and find helix"
   ]
  },
  {
   "cell_type": "code",
   "execution_count": 24,
   "metadata": {},
   "outputs": [
    {
     "name": "stdout",
     "output_type": "stream",
     "text": [
      "Write PDB: /home/yizaochen/codes/dna_rna/length_effect/find_helical_axis/gcgc_21mer/avg_structure/haxis.avg.pdb\n",
      "cp /home/yizaochen/codes/dna_rna/length_effect/find_helical_axis/gcgc_21mer/r+bdna_X.pdb /home/yizaochen/codes/dna_rna/length_effect/find_helical_axis/gcgc_21mer/avg_structure/haxis.smooth.avg.pdb\n"
     ]
    }
   ],
   "source": [
    "a_agent.curveplus_find_haxis()"
   ]
  },
  {
   "cell_type": "markdown",
   "metadata": {},
   "source": [
    "### Part 4: Use VMD to show"
   ]
  },
  {
   "cell_type": "code",
   "execution_count": 25,
   "metadata": {},
   "outputs": [
    {
     "name": "stdout",
     "output_type": "stream",
     "text": [
      "cd /home/yizaochen/codes/bentdna\n",
      "vmd -pdb /home/yizaochen/codes/dna_rna/all_systems/gcgc_21mer/bdna+bdna/input/heavyatoms/bdna+bdna.nohydrogen.avg.pdb\n",
      "mol new /home/yizaochen/codes/dna_rna/length_effect/find_helical_axis/gcgc_21mer/avg_structure/haxis.avg.pdb type pdb\n",
      "mol new /home/yizaochen/codes/dna_rna/length_effect/find_helical_axis/gcgc_21mer/avg_structure/haxis.smooth.avg.pdb type pdb\n",
      "source ./tcl/draw_aa_haxis.tcl\n"
     ]
    }
   ],
   "source": [
    "a_agent.vmd_check()"
   ]
  },
  {
   "cell_type": "code",
   "execution_count": null,
   "metadata": {},
   "outputs": [],
   "source": []
  }
 ],
 "metadata": {
  "kernelspec": {
   "display_name": "Python 3",
   "language": "python",
   "name": "python3"
  },
  "language_info": {
   "codemirror_mode": {
    "name": "ipython",
    "version": 3
   },
   "file_extension": ".py",
   "mimetype": "text/x-python",
   "name": "python",
   "nbconvert_exporter": "python",
   "pygments_lexer": "ipython3",
   "version": "3.8.5"
  }
 },
 "nbformat": 4,
 "nbformat_minor": 4
}

{
 "cells": [
  {
   "cell_type": "code",
   "execution_count": 4,
   "metadata": {},
   "outputs": [],
   "source": [
    "import matplotlib.pyplot as plt\n",
    "import numpy as np\n",
    "from matplotlib import rcParams\n",
    "from bentdna.persistence_length import LpWindows\n",
    "from bentdna.lp_plots import BarPlot\n",
    "bentna_folder = '/home/yizaochen/codes/dna_rna/length_effect/find_helical_axis'\n",
    "rcParams['font.family'] = 'Arial'"
   ]
  },
  {
   "cell_type": "markdown",
   "metadata": {},
   "source": [
    "### Part 1: Initialize"
   ]
  },
  {
   "cell_type": "code",
   "execution_count": 5,
   "metadata": {},
   "outputs": [
    {
     "name": "stdout",
     "output_type": "stream",
     "text": [
      "Read Lp from /home/yizaochen/codes/dna_rna/length_effect/find_helical_axis/a_tract_21mer/an_folder/lp_store_array.npy\n",
      "Read Lp from /home/yizaochen/codes/dna_rna/length_effect/find_helical_axis/g_tract_21mer/an_folder/lp_store_array.npy\n",
      "Read Lp from /home/yizaochen/codes/dna_rna/length_effect/find_helical_axis/atat_21mer/an_folder/lp_store_array.npy\n",
      "Read Lp from /home/yizaochen/codes/dna_rna/length_effect/find_helical_axis/gcgc_21mer/an_folder/lp_store_array.npy\n"
     ]
    }
   ],
   "source": [
    "plot_agent = BarPlot(bentna_folder)"
   ]
  },
  {
   "cell_type": "markdown",
   "metadata": {},
   "source": [
    "### Part 2: Plot"
   ]
  },
  {
   "cell_type": "code",
   "execution_count": 6,
   "metadata": {},
   "outputs": [
    {
     "data": {
      "image/png": "[encoded data removed]",
      "text/plain": [
       "<Figure size 130.824x59.76 with 1 Axes>"
      ]
     },
     "metadata": {},
     "output_type": "display_data"
    }
   ],
   "source": [
    "figsize = (1.817, 0.83)\n",
    "width = 0.5\n",
    "plot_agent.bar_plot(figsize, width)\n",
    "plt.savefig('/home/yizaochen/Desktop/drawzone_temp/bar_lp.svg', transparent=False)\n",
    "plt.show()"
   ]
  },
  {
   "cell_type": "code",
   "execution_count": null,
   "metadata": {},
   "outputs": [],
   "source": []
  }
 ],
 "metadata": {
  "kernelspec": {
   "display_name": "Python 3",
   "language": "python",
   "name": "python3"
  },
  "language_info": {
   "codemirror_mode": {
    "name": "ipython",
    "version": 3
   },
   "file_extension": ".py",
   "mimetype": "text/x-python",
   "name": "python",
   "nbconvert_exporter": "python",
   "pygments_lexer": "ipython3",
   "version": "3.8.5"
  }
 },
 "nbformat": 4,
 "nbformat_minor": 4
}

{
 "cells": [
  {
   "cell_type": "code",
   "execution_count": 2,
   "metadata": {},
   "outputs": [],
   "source": [
    "from os import path"
   ]
  },
  {
   "cell_type": "code",
   "execution_count": 3,
   "metadata": {},
   "outputs": [],
   "source": [
    "rootfolder = '/home/yizaochen/codes/bentdna/tests'\n",
    "host = 'pnas_16mer'\n",
    "workfolder = path.join(rootfolder, host)"
   ]
  },
  {
   "cell_type": "markdown",
   "metadata": {},
   "source": [
    "### Part 1: Use VMD to show"
   ]
  },
  {
   "cell_type": "code",
   "execution_count": null,
   "metadata": {},
   "outputs": [],
   "source": [
    "frame_id = 0\n",
    "allatom_pdb = path.join(workfolder, 'pdbs_allatoms', f'{frame_id}.pdb')\n",
    "haxis_pdb = path.join(workfolder, 'haxis_smooth', f'haxis.smooth.{frame_id}.pdb')\n",
    "\n",
    "cmd = 'cd /home/yizaochen/codes/bentdna'\n",
    "print(cmd)\n",
    "\n",
    "cmd = f'vmd -pdb {allatom_pdb}'\n",
    "print(cmd)\n",
    "\n",
    "cmd = f'mol new  {haxis_pdb} type pdb'\n",
    "print(cmd)"
   ]
  }
 ],
 "metadata": {
  "kernelspec": {
   "display_name": "Python 3",
   "language": "python",
   "name": "python3"
  },
  "language_info": {
   "codemirror_mode": {
    "name": "ipython",
    "version": 3
   },
   "file_extension": ".py",
   "mimetype": "text/x-python",
   "name": "python",
   "nbconvert_exporter": "python",
   "pygments_lexer": "ipython3",
   "version": "3.8.5"
  }
 },
 "nbformat": 4,
 "nbformat_minor": 4
}

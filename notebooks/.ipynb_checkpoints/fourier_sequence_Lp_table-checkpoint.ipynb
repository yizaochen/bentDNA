{
 "cells": [
  {
   "cell_type": "code",
   "execution_count": 3,
   "metadata": {},
   "outputs": [
    {
     "ename": "ModuleNotFoundError",
     "evalue": "No module named 'bentdna'",
     "output_type": "error",
     "traceback": [
      "\u001b[0;31m---------------------------------------------------------------------------\u001b[0m",
      "\u001b[0;31mModuleNotFoundError\u001b[0m                       Traceback (most recent call last)",
      "\u001b[0;32m<ipython-input-3-d46afe8e672e>\u001b[0m in \u001b[0;36m<module>\u001b[0;34m\u001b[0m\n\u001b[0;32m----> 1\u001b[0;31m \u001b[0;32mfrom\u001b[0m \u001b[0mbentdna\u001b[0m \u001b[0;32mimport\u001b[0m \u001b[0mshapefourier\u001b[0m\u001b[0;34m\u001b[0m\u001b[0;34m\u001b[0m\u001b[0m\n\u001b[0m\u001b[1;32m      2\u001b[0m \u001b[0mhosts\u001b[0m \u001b[0;34m=\u001b[0m \u001b[0;34m[\u001b[0m\u001b[0;34m'atat_21mer'\u001b[0m\u001b[0;34m,\u001b[0m \u001b[0;34m'g_tract_21mer'\u001b[0m\u001b[0;34m,\u001b[0m \u001b[0;34m'a_tract_21mer'\u001b[0m\u001b[0;34m,\u001b[0m \u001b[0;34m'gcgc_21mer'\u001b[0m\u001b[0;34m,\u001b[0m \u001b[0;34m'tgtg_21mer'\u001b[0m\u001b[0;34m,\u001b[0m \u001b[0;34m'ctct_21mer'\u001b[0m\u001b[0;34m]\u001b[0m\u001b[0;34m\u001b[0m\u001b[0;34m\u001b[0m\u001b[0m\n",
      "\u001b[0;31mModuleNotFoundError\u001b[0m: No module named 'bentdna'"
     ]
    }
   ],
   "source": [
    "from bentdna import shapefourier\n",
    "hosts = ['atat_21mer', 'g_tract_21mer', 'a_tract_21mer', 'gcgc_21mer', 'tgtg_21mer', 'ctct_21mer']"
   ]
  },
  {
   "cell_type": "code",
   "execution_count": 2,
   "metadata": {},
   "outputs": [],
   "source": [
    "def get_nlist_Lplist(df, L, n_begin, n_end):\n",
    "    n_list = list(range(n_begin, n_end+1))\n",
    "    Lp_list = list()\n",
    "    for n in n_list:\n",
    "        var_an = df[str(n)].var()\n",
    "        Lp = np.square(L) / (np.square(n) * np.square(np.pi) * var_an)\n",
    "        Lp_list.append(Lp)\n",
    "    return n_list, Lp_list\n",
    "\n",
    "def print_lp(host, nlist, Lplist):\n",
    "    print_list = [f'{host}:']\n",
    "    for n, Lp in zip(nlist, Lplist):\n",
    "        print_list.append(f'(n={n}, Lp={Lp})')\n",
    "    print(print_list.join(' '))"
   ]
  },
  {
   "cell_type": "code",
   "execution_count": null,
   "metadata": {},
   "outputs": [],
   "source": [
    "n_begin = 2\n",
    "n_end = 3"
   ]
  },
  {
   "cell_type": "code",
   "execution_count": null,
   "metadata": {},
   "outputs": [],
   "source": [
    "for host in hosts:\n",
    "    s_agent = shapefourier.ShapeAgent(workfolder, host)\n",
    "    df_an = s_agent.read_df_an(n_begin, n_end)\n",
    "    L = s_agent.get_appr_L()\n",
    "    nlist, Lplist = get_nlist_Lplist(df_an, L, n_begin, n_end)\n",
    "    print_lp(host, nlist, Lplist)"
   ]
  }
 ],
 "metadata": {
  "kernelspec": {
   "display_name": "Python 3",
   "language": "python",
   "name": "python3"
  },
  "language_info": {
   "codemirror_mode": {
    "name": "ipython",
    "version": 3
   },
   "file_extension": ".py",
   "mimetype": "text/x-python",
   "name": "python",
   "nbconvert_exporter": "python",
   "pygments_lexer": "ipython3",
   "version": "3.8.5"
  }
 },
 "nbformat": 4,
 "nbformat_minor": 4
}

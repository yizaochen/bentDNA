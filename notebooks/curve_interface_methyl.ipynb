{
 "cells": [
  {
   "cell_type": "code",
   "execution_count": 1,
   "metadata": {},
   "outputs": [],
   "source": [
    "from os import path\n",
    "import MDAnalysis as mda\n",
    "from bentdna.PDB import PDBReader, PDBWriter\n",
    "from bentdna.find_haxis_curve import FindHelixAgent, PrepareHelix"
   ]
  },
  {
   "cell_type": "markdown",
   "metadata": {},
   "source": [
    "### Part 0: Prepare Required file"
   ]
  },
  {
   "cell_type": "code",
   "execution_count": 2,
   "metadata": {},
   "outputs": [
    {
     "name": "stdout",
     "output_type": "stream",
     "text": [
      "/home/yizaochen/Desktop/methyl_dna/cg_13_meth1/input exists\n",
      "/home/yizaochen/Desktop/methyl_dna/cg_13_meth1/output exists\n",
      "cd /home/yizaochen/Desktop/methyl_dna/cg_13_meth1\n"
     ]
    }
   ],
   "source": [
    "host = 'cg_13_meth1'\n",
    "n_bp = 13\n",
    "find_helix_folder = '/home/yizaochen/Desktop/methyl_dna'\n",
    "\n",
    "prep_helix = PrepareHelix(find_helix_folder, host, n_bp)\n",
    "print(f'cd {prep_helix.workfolder}')"
   ]
  },
  {
   "cell_type": "code",
   "execution_count": null,
   "metadata": {},
   "outputs": [],
   "source": [
    "prep_helix.copy_input_xtc()\n",
    "prep_helix.copy_input_pdb()"
   ]
  },
  {
   "cell_type": "markdown",
   "metadata": {},
   "source": [
    "### Cut trajectory for testcase\n",
    "`gmx trjcat -f bdna+bdna.all.xtc -o temp.xtc -e 1000`  \n",
    "`mv temp.xtc bdna+bdna.all.xtc`"
   ]
  },
  {
   "cell_type": "markdown",
   "metadata": {},
   "source": [
    "### Part 1: assign number of base-pairs"
   ]
  },
  {
   "cell_type": "code",
   "execution_count": 4,
   "metadata": {},
   "outputs": [],
   "source": [
    "n_bp = 13\n",
    "pdb_in = path.join(prep_helix.input_folder, 'bdna+bdna.npt4.all.pdb')\n",
    "xtc_in = path.join(prep_helix.input_folder, 'bdna+bdna.all.xtc')"
   ]
  },
  {
   "cell_type": "markdown",
   "metadata": {},
   "source": [
    "### Part 2: Convert xtc to dcd"
   ]
  },
  {
   "cell_type": "code",
   "execution_count": 5,
   "metadata": {},
   "outputs": [
    {
     "name": "stdout",
     "output_type": "stream",
     "text": [
      "vmd -pdb /home/yizaochen/Desktop/methyl_dna/cg_13_meth1/input/bdna+bdna.npt4.all.pdb /home/yizaochen/Desktop/methyl_dna/cg_13_meth1/input/bdna+bdna.all.xtc\n",
      "In vmd tkconsole\n",
      "animate write dcd /home/yizaochen/Desktop/methyl_dna/cg_13_meth1/input/bdna+bdna.0_1ns.10frames.dcd beg 1 end 11 waitfor all\n"
     ]
    }
   ],
   "source": [
    "cmd = f'vmd -pdb {prep_helix.pdb_in} {prep_helix.xtc_in}'\n",
    "print(cmd)\n",
    "\n",
    "# In vmd tkconsole\n",
    "dcd_out = path.join(prep_helix.input_folder, 'bdna+bdna.0_1ns.10frames.dcd')\n",
    "print('In vmd tkconsole')\n",
    "cmd = f'animate write dcd {dcd_out} beg 1 end 11 waitfor all'\n",
    "print(cmd)"
   ]
  },
  {
   "cell_type": "markdown",
   "metadata": {},
   "source": [
    "### Part 3: Change B-chain ID from 1-13 to 14-26"
   ]
  },
  {
   "cell_type": "code",
   "execution_count": 6,
   "metadata": {},
   "outputs": [
    {
     "name": "stdout",
     "output_type": "stream",
     "text": [
      "vim /home/yizaochen/Desktop/methyl_dna/cg_13_meth1/input/bdna+bdna.npt4.all.pdb\n"
     ]
    }
   ],
   "source": [
    "pdb_modified = path.join(prep_helix.input_folder, 'bdna_modi.pdb')\n",
    "# check pdb, to see whether require to change resid\n",
    "cmd = f'vim {prep_helix.pdb_in}'\n",
    "print(cmd)"
   ]
  },
  {
   "cell_type": "code",
   "execution_count": 7,
   "metadata": {},
   "outputs": [
    {
     "name": "stdout",
     "output_type": "stream",
     "text": [
      ":5,414s/$/A/\n",
      ":415,$s/$/B/\n"
     ]
    }
   ],
   "source": [
    "print(':5,414s/$/A/')     \n",
    "print(':415,$s/$/B/')"
   ]
  },
  {
   "cell_type": "code",
   "execution_count": 9,
   "metadata": {},
   "outputs": [
    {
     "name": "stdout",
     "output_type": "stream",
     "text": [
      "Write PDB: /home/yizaochen/Desktop/methyl_dna/cg_13_meth1/input/bdna_modi.pdb\n"
     ]
    }
   ],
   "source": [
    "reader = PDBReader(pdb_in, skip_header=4, skip_footer=2, segid_exist=True)\n",
    "atgs = reader.get_atomgroup()\n",
    "\n",
    "# Change resid\n",
    "resid_offset = n_bp\n",
    "for atom in atgs:\n",
    "    if atom.segid == 'B':\n",
    "        atom.resid += resid_offset\n",
    "        \n",
    "\n",
    "writer = PDBWriter(pdb_modified, atgs)\n",
    "writer.write_pdb()"
   ]
  },
  {
   "cell_type": "markdown",
   "metadata": {},
   "source": [
    "### Part 4: Initialize FindHelixAgent"
   ]
  },
  {
   "cell_type": "code",
   "execution_count": 7,
   "metadata": {},
   "outputs": [
    {
     "name": "stdout",
     "output_type": "stream",
     "text": [
      "/home/yizaochen/Desktop/methyl_dna/cg_13_meth1/pdbs_allatoms exists\n",
      "/home/yizaochen/Desktop/methyl_dna/cg_13_meth1/curve_workdir_0_11 exists\n",
      "/home/yizaochen/Desktop/methyl_dna/cg_13_meth1/pdbs_haxis exists\n",
      "/home/yizaochen/Desktop/methyl_dna/cg_13_meth1/haxis_smooth exists\n",
      "There are 11 frames.\n"
     ]
    },
    {
     "name": "stderr",
     "output_type": "stream",
     "text": [
      "/home/yizaochen/miniconda3/envs/bentdna/lib/python3.8/site-packages/MDAnalysis/topology/PDBParser.py:330: UserWarning: Element information is absent or missing for a few atoms. Elements attributes will not be populated.\n",
      "  warnings.warn(\"Element information is absent or missing for a few \"\n"
     ]
    }
   ],
   "source": [
    "f_agent = FindHelixAgent(prep_helix.workfolder, pdb_modified, dcd_out, n_bp)"
   ]
  },
  {
   "cell_type": "markdown",
   "metadata": {},
   "source": [
    "### Part 5: Extract single pdb from dcd"
   ]
  },
  {
   "cell_type": "code",
   "execution_count": 9,
   "metadata": {},
   "outputs": [],
   "source": [
    "f_agent.extract_pdb_allatoms()"
   ]
  },
  {
   "cell_type": "markdown",
   "metadata": {},
   "source": [
    "### Part 6: Execute Curve+ and Convert to H-axis pdb"
   ]
  },
  {
   "cell_type": "code",
   "execution_count": null,
   "metadata": {},
   "outputs": [],
   "source": [
    "# Smooth Curve, contain a lot of pseudo-atoms\n",
    "f_agent.curveplus_find_smooth_haxis()"
   ]
  },
  {
   "cell_type": "code",
   "execution_count": 15,
   "metadata": {},
   "outputs": [
    {
     "name": "stdout",
     "output_type": "stream",
     "text": [
      "Write PDB: /home/yizaochen/Desktop/methyl_dna/cg_13_meth1/pdbs_haxis/haxis.0.pdb\n",
      "Write PDB: /home/yizaochen/Desktop/methyl_dna/cg_13_meth1/pdbs_haxis/haxis.1.pdb\n",
      "Write PDB: /home/yizaochen/Desktop/methyl_dna/cg_13_meth1/pdbs_haxis/haxis.2.pdb\n",
      "Write PDB: /home/yizaochen/Desktop/methyl_dna/cg_13_meth1/pdbs_haxis/haxis.3.pdb\n",
      "Write PDB: /home/yizaochen/Desktop/methyl_dna/cg_13_meth1/pdbs_haxis/haxis.4.pdb\n",
      "Write PDB: /home/yizaochen/Desktop/methyl_dna/cg_13_meth1/pdbs_haxis/haxis.5.pdb\n",
      "Write PDB: /home/yizaochen/Desktop/methyl_dna/cg_13_meth1/pdbs_haxis/haxis.6.pdb\n",
      "Write PDB: /home/yizaochen/Desktop/methyl_dna/cg_13_meth1/pdbs_haxis/haxis.7.pdb\n",
      "Write PDB: /home/yizaochen/Desktop/methyl_dna/cg_13_meth1/pdbs_haxis/haxis.8.pdb\n",
      "Write PDB: /home/yizaochen/Desktop/methyl_dna/cg_13_meth1/pdbs_haxis/haxis.9.pdb\n",
      "Write PDB: /home/yizaochen/Desktop/methyl_dna/cg_13_meth1/pdbs_haxis/haxis.10.pdb\n"
     ]
    }
   ],
   "source": [
    "# Only n_bp beads\n",
    "f_agent.curveplus_find_haxis()"
   ]
  },
  {
   "cell_type": "markdown",
   "metadata": {},
   "source": [
    "### Part 7: Use VMD to show"
   ]
  },
  {
   "cell_type": "code",
   "execution_count": 11,
   "metadata": {},
   "outputs": [],
   "source": [
    "rootfolder = '/home/yizaochen/Desktop/methyl_dna'\n",
    "host = 'cg_13_meth1'\n",
    "workfolder = path.join(rootfolder, host)"
   ]
  },
  {
   "cell_type": "code",
   "execution_count": 12,
   "metadata": {},
   "outputs": [
    {
     "name": "stdout",
     "output_type": "stream",
     "text": [
      "cd /home/yizaochen/codes/bentdna\n",
      "vmd -pdb /home/yizaochen/Desktop/methyl_dna/cg_13_meth1/pdbs_allatoms/0.pdb\n",
      "mol new /home/yizaochen/Desktop/methyl_dna/cg_13_meth1/haxis_smooth/haxis.smooth.0.pdb type pdb\n",
      "source ./tcl/draw_aa_haxis.tcl\n"
     ]
    }
   ],
   "source": [
    "frame_id = 0\n",
    "allatom_pdb = path.join(workfolder, 'pdbs_allatoms', f'{frame_id}.pdb')\n",
    "haxis_pdb = path.join(workfolder, 'haxis_smooth', f'haxis.smooth.{frame_id}.pdb')\n",
    "\n",
    "cmd = 'cd /home/yizaochen/codes/bentdna'\n",
    "print(cmd)\n",
    "\n",
    "cmd = f'vmd -pdb {allatom_pdb}'\n",
    "print(cmd)\n",
    "\n",
    "cmd = f'mol new {haxis_pdb} type pdb'\n",
    "print(cmd)\n",
    "\n",
    "cmd = f'source ./tcl/draw_aa_haxis.tcl'\n",
    "print(cmd)"
   ]
  },
  {
   "cell_type": "markdown",
   "metadata": {},
   "source": [
    "### Part 8-1: Test, Use VMD to show, make dcd"
   ]
  },
  {
   "cell_type": "code",
   "execution_count": 17,
   "metadata": {},
   "outputs": [
    {
     "name": "stdout",
     "output_type": "stream",
     "text": [
      "cd /home/yizaochen/Desktop/methyl_dna/cg_13_meth1/pdbs_haxis\n",
      "vmd\n",
      "source /home/yizaochen/codes/na_mechanics/make_haxis.tcl\n",
      "read_all_pdb_files 0 10\n",
      "animate write dcd /home/yizaochen/Desktop/methyl_dna/cg_13_meth1/output/haxis.dcd beg 0 end 10 waitfor all\n"
     ]
    }
   ],
   "source": [
    "haxis_folder = path.join(prep_helix.workfolder, 'pdbs_haxis')\n",
    "cmd = f'cd {haxis_folder}'\n",
    "print(cmd)\n",
    "\n",
    "cmd = 'vmd'\n",
    "print(cmd)\n",
    "\n",
    "haxis_tcl = '/home/yizaochen/codes/na_mechanics/make_haxis.tcl'\n",
    "cmd = f'source {haxis_tcl}'\n",
    "print(cmd)\n",
    "\n",
    "start = 0\n",
    "end = 10\n",
    "cmd = f'read_all_pdb_files {start} {end}'\n",
    "print(cmd)\n",
    "\n",
    "haxis_dcd = path.join(prep_helix.output_folder, 'haxis.dcd')\n",
    "cmd = f'animate write dcd {haxis_dcd} beg {start} end {end} waitfor all'\n",
    "print(cmd)"
   ]
  },
  {
   "cell_type": "code",
   "execution_count": 16,
   "metadata": {},
   "outputs": [
    {
     "name": "stdout",
     "output_type": "stream",
     "text": [
      "vmd -pdb /home/yizaochen/Desktop/methyl_dna/cg_13_meth1/pdbs_haxis/haxis.0.pdb /home/yizaochen/Desktop/methyl_dna/cg_13_meth1/output/haxis.dcd\n",
      "mol new /home/yizaochen/Desktop/methyl_dna/cg_13_meth1/input/bdna_modi.pdb\n",
      "mol addfile /home/yizaochen/Desktop/methyl_dna/cg_13_meth1/input/bdna+bdna.0_1ns.10frames.dcd 1\n"
     ]
    }
   ],
   "source": [
    "pdb_ref = path.join(prep_helix.workfolder, 'pdbs_haxis', 'haxis.0.pdb')\n",
    "cmd = f'vmd -pdb {pdb_ref} {haxis_dcd}'\n",
    "print(cmd)\n",
    "\n",
    "cmd = f'mol new {prep_helix.pdb_modi}'\n",
    "print(cmd)\n",
    "\n",
    "cmd = f'mol addfile {prep_helix.dcd_out_test} 1'  \n",
    "print(cmd)"
   ]
  },
  {
   "cell_type": "markdown",
   "metadata": {},
   "source": [
    "### Part 9: rm pdb_allatoms"
   ]
  },
  {
   "cell_type": "code",
   "execution_count": 4,
   "metadata": {},
   "outputs": [
    {
     "name": "stdout",
     "output_type": "stream",
     "text": [
      "rm /home/yizaochen/codes/dna_rna/length_effect/find_helical_axis/pnas_16mer/pdbs_allatoms/*\n"
     ]
    }
   ],
   "source": [
    "\"\"\"\n",
    "allpdbs = path.join(prep_helix.workfolder, 'pdbs_allatoms', '*')\n",
    "cmd = f'rm {allpdbs}'\n",
    "print(cmd)\n",
    "\"\"\""
   ]
  },
  {
   "cell_type": "markdown",
   "metadata": {},
   "source": [
    "### Useful commands"
   ]
  },
  {
   "cell_type": "markdown",
   "metadata": {},
   "source": [
    "- cat 0.pdb | grep 'ATOM      1'"
   ]
  }
 ],
 "metadata": {
  "kernelspec": {
   "display_name": "Python 3",
   "language": "python",
   "name": "python3"
  },
  "language_info": {
   "codemirror_mode": {
    "name": "ipython",
    "version": 3
   },
   "file_extension": ".py",
   "mimetype": "text/x-python",
   "name": "python",
   "nbconvert_exporter": "python",
   "pygments_lexer": "ipython3",
   "version": "3.8.5"
  }
 },
 "nbformat": 4,
 "nbformat_minor": 4
}

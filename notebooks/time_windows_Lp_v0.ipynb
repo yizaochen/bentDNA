{
 "cells": [
  {
   "cell_type": "code",
   "execution_count": 1,
   "metadata": {},
   "outputs": [],
   "source": [
    "from bentdna.persistence_length import LpWindows\n",
    "import matplotlib.pyplot as plt\n",
    "import numpy as np\n",
    "bentna_folder = '/home/yizaochen/codes/dna_rna/length_effect/find_helical_axis'"
   ]
  },
  {
   "cell_type": "markdown",
   "metadata": {},
   "source": [
    "### Part 1: Initialize"
   ]
  },
  {
   "cell_type": "code",
   "execution_count": 2,
   "metadata": {},
   "outputs": [],
   "source": [
    "host = 'a_tract_21mer'\n",
    "n_frames_per_window = 5000\n",
    "l_agent = LpWindows(bentna_folder, host, n_frames_per_window)"
   ]
  },
  {
   "cell_type": "code",
   "execution_count": 3,
   "metadata": {},
   "outputs": [
    {
     "data": {
      "text/plain": [
       "[(0, 4999),\n",
       " (2500, 7499),\n",
       " (5000, 9999),\n",
       " (7500, 12499),\n",
       " (10000, 14999),\n",
       " (12500, 17499),\n",
       " (15000, 19999),\n",
       " (17500, 22499),\n",
       " (20000, 24999),\n",
       " (22500, 27499),\n",
       " (25000, 29999),\n",
       " (27500, 32499),\n",
       " (30000, 34999),\n",
       " (32500, 37499),\n",
       " (35000, 39999),\n",
       " (37500, 42499),\n",
       " (40000, 44999),\n",
       " (42500, 47499),\n",
       " (45000, 49999)]"
      ]
     },
     "execution_count": 3,
     "metadata": {},
     "output_type": "execute_result"
    }
   ],
   "source": [
    "l_agent.get_split_frame_list()"
   ]
  },
  {
   "cell_type": "markdown",
   "metadata": {},
   "source": [
    "### Part 2: Read Dataframe"
   ]
  },
  {
   "cell_type": "code",
   "execution_count": 3,
   "metadata": {},
   "outputs": [
    {
     "name": "stdout",
     "output_type": "stream",
     "text": [
      "Read df_an from /home/yizaochen/codes/dna_rna/length_effect/find_helical_axis/a_tract_21mer/an_folder/an_0_9_bpfirst3_bplast17.csv\n"
     ]
    }
   ],
   "source": [
    "l_agent.read_df_an()"
   ]
  },
  {
   "cell_type": "code",
   "execution_count": 5,
   "metadata": {},
   "outputs": [
    {
     "data": {
      "text/html": [
       "<div>\n",
       "<style scoped>\n",
       "    .dataframe tbody tr th:only-of-type {\n",
       "        vertical-align: middle;\n",
       "    }\n",
       "\n",
       "    .dataframe tbody tr th {\n",
       "        vertical-align: top;\n",
       "    }\n",
       "\n",
       "    .dataframe thead th {\n",
       "        text-align: right;\n",
       "    }\n",
       "</style>\n",
       "<table border=\"1\" class=\"dataframe\">\n",
       "  <thead>\n",
       "    <tr style=\"text-align: right;\">\n",
       "      <th></th>\n",
       "      <th>0</th>\n",
       "      <th>1</th>\n",
       "      <th>2</th>\n",
       "      <th>3</th>\n",
       "      <th>4</th>\n",
       "      <th>5</th>\n",
       "      <th>6</th>\n",
       "      <th>7</th>\n",
       "      <th>8</th>\n",
       "      <th>9</th>\n",
       "    </tr>\n",
       "  </thead>\n",
       "  <tbody>\n",
       "    <tr>\n",
       "      <th>0</th>\n",
       "      <td>0.472659</td>\n",
       "      <td>-0.082037</td>\n",
       "      <td>-0.083300</td>\n",
       "      <td>-0.060492</td>\n",
       "      <td>-0.014238</td>\n",
       "      <td>0.032104</td>\n",
       "      <td>0.011171</td>\n",
       "      <td>0.012139</td>\n",
       "      <td>-0.010040</td>\n",
       "      <td>-0.012814</td>\n",
       "    </tr>\n",
       "    <tr>\n",
       "      <th>1</th>\n",
       "      <td>0.372355</td>\n",
       "      <td>-0.112163</td>\n",
       "      <td>0.070121</td>\n",
       "      <td>0.000105</td>\n",
       "      <td>0.009575</td>\n",
       "      <td>-0.049337</td>\n",
       "      <td>-0.007295</td>\n",
       "      <td>-0.019887</td>\n",
       "      <td>0.004396</td>\n",
       "      <td>-0.003486</td>\n",
       "    </tr>\n",
       "    <tr>\n",
       "      <th>2</th>\n",
       "      <td>0.562723</td>\n",
       "      <td>-0.116956</td>\n",
       "      <td>0.093044</td>\n",
       "      <td>-0.038627</td>\n",
       "      <td>-0.073007</td>\n",
       "      <td>-0.068122</td>\n",
       "      <td>0.020503</td>\n",
       "      <td>-0.021716</td>\n",
       "      <td>-0.007891</td>\n",
       "      <td>0.001465</td>\n",
       "    </tr>\n",
       "    <tr>\n",
       "      <th>3</th>\n",
       "      <td>0.428166</td>\n",
       "      <td>-0.167618</td>\n",
       "      <td>0.008348</td>\n",
       "      <td>0.021849</td>\n",
       "      <td>0.051480</td>\n",
       "      <td>-0.028985</td>\n",
       "      <td>-0.002691</td>\n",
       "      <td>-0.012772</td>\n",
       "      <td>-0.000884</td>\n",
       "      <td>-0.002050</td>\n",
       "    </tr>\n",
       "    <tr>\n",
       "      <th>4</th>\n",
       "      <td>0.471383</td>\n",
       "      <td>-0.037604</td>\n",
       "      <td>0.005544</td>\n",
       "      <td>-0.060761</td>\n",
       "      <td>0.010258</td>\n",
       "      <td>-0.017149</td>\n",
       "      <td>0.031898</td>\n",
       "      <td>-0.010619</td>\n",
       "      <td>-0.001598</td>\n",
       "      <td>0.004935</td>\n",
       "    </tr>\n",
       "  </tbody>\n",
       "</table>\n",
       "</div>"
      ],
      "text/plain": [
       "          0         1         2         3         4         5         6  \\\n",
       "0  0.472659 -0.082037 -0.083300 -0.060492 -0.014238  0.032104  0.011171   \n",
       "1  0.372355 -0.112163  0.070121  0.000105  0.009575 -0.049337 -0.007295   \n",
       "2  0.562723 -0.116956  0.093044 -0.038627 -0.073007 -0.068122  0.020503   \n",
       "3  0.428166 -0.167618  0.008348  0.021849  0.051480 -0.028985 -0.002691   \n",
       "4  0.471383 -0.037604  0.005544 -0.060761  0.010258 -0.017149  0.031898   \n",
       "\n",
       "          7         8         9  \n",
       "0  0.012139 -0.010040 -0.012814  \n",
       "1 -0.019887  0.004396 -0.003486  \n",
       "2 -0.021716 -0.007891  0.001465  \n",
       "3 -0.012772 -0.000884 -0.002050  \n",
       "4 -0.010619 -0.001598  0.004935  "
      ]
     },
     "execution_count": 5,
     "metadata": {},
     "output_type": "execute_result"
    }
   ],
   "source": [
    "l_agent.df_an.head()"
   ]
  },
  {
   "cell_type": "markdown",
   "metadata": {},
   "source": [
    "### Part 3: Split all frames data into time windows"
   ]
  },
  {
   "cell_type": "code",
   "execution_count": 4,
   "metadata": {},
   "outputs": [],
   "source": [
    "l_agent.set_split_df_list()"
   ]
  },
  {
   "cell_type": "code",
   "execution_count": 8,
   "metadata": {},
   "outputs": [],
   "source": [
    "#split_df_list = l_agent.get_split_df_list()\n",
    "#split_df_list[1]"
   ]
  },
  {
   "cell_type": "markdown",
   "metadata": {},
   "source": [
    "### Part 4: Make/Read Lp of all windows"
   ]
  },
  {
   "cell_type": "code",
   "execution_count": 5,
   "metadata": {},
   "outputs": [
    {
     "name": "stdout",
     "output_type": "stream",
     "text": [
      "Start to process Window-0\n",
      "Start to process Window-1\n",
      "Start to process Window-2\n",
      "Start to process Window-3\n",
      "Start to process Window-4\n",
      "Start to process Window-5\n",
      "Start to process Window-6\n",
      "Start to process Window-7\n",
      "Start to process Window-8\n",
      "Start to process Window-9\n",
      "Start to process Window-10\n",
      "Start to process Window-11\n",
      "Start to process Window-12\n",
      "Start to process Window-13\n",
      "Start to process Window-14\n",
      "Start to process Window-15\n",
      "Start to process Window-16\n",
      "Start to process Window-17\n",
      "Start to process Window-18\n",
      "Save Lp of all windows into /home/yizaochen/codes/dna_rna/length_effect/find_helical_axis/a_tract_21mer/an_folder/lp_store_array.npy\n"
     ]
    }
   ],
   "source": [
    "execute = True\n",
    "if execute:\n",
    "    l_agent.set_lp_store_array()\n",
    "    l_agent.save_lp_store_array()"
   ]
  },
  {
   "cell_type": "code",
   "execution_count": 6,
   "metadata": {},
   "outputs": [
    {
     "name": "stdout",
     "output_type": "stream",
     "text": [
      "Read Lp from /home/yizaochen/codes/dna_rna/length_effect/find_helical_axis/a_tract_21mer/an_folder/lp_store_array.npy\n"
     ]
    }
   ],
   "source": [
    "l_agent.read_lp_store_array()"
   ]
  },
  {
   "cell_type": "markdown",
   "metadata": {},
   "source": [
    "### Part 5: Plot $L_p$ for Group 1"
   ]
  },
  {
   "cell_type": "code",
   "execution_count": 9,
   "metadata": {},
   "outputs": [],
   "source": [
    "n_frames_per_window = 5000\n",
    "group1_hosts = ['a_tract_21mer', 'tat_21mer', 'g_tract_21mer', 'gcgc_21mer']"
   ]
  },
  {
   "cell_type": "code",
   "execution_count": 10,
   "metadata": {},
   "outputs": [],
   "source": [
    "d_colors = {'a_tract_21mer': 'blue', 'atat_21mer': 'orange', 'ctct_21mer': 'green',\n",
    "                'g_tract_21mer': 'red', 'gcgc_21mer': 'magenta', 'tgtg_21mer': 'cyan', \n",
    "                'tat_21mer': 'purple', 'tat_1_21mer': 'magenta', 'tat_2_21mer': 'green',\n",
    "                'tat_3_21mer': 'cyan'}\n",
    "\n",
    "abbr_hosts = {'a_tract_21mer': 'A-tract', 'ctct_21mer': 'CTCT', 'gcgc_21mer': 'CpG',\n",
    "                  'g_tract_21mer': 'G-tract', 'atat_21mer': 'ATAT', 'tgtg_21mer': 'TGTG', \n",
    "                  'tat_21mer': 'A-junction', 'tat_1_21mer': 'TAT-1', 'tat_2_21mer': 'TAT-2', 'tat_3_21mer': 'TAT-3'} "
   ]
  },
  {
   "cell_type": "code",
   "execution_count": 21,
   "metadata": {},
   "outputs": [
    {
     "name": "stdout",
     "output_type": "stream",
     "text": [
      "Read Lp from /home/yizaochen/codes/dna_rna/length_effect/find_helical_axis/a_tract_21mer/an_folder/lp_store_array.npy\n",
      "Read Lp from /home/yizaochen/codes/dna_rna/length_effect/find_helical_axis/tat_21mer/an_folder/lp_store_array.npy\n",
      "Read Lp from /home/yizaochen/codes/dna_rna/length_effect/find_helical_axis/g_tract_21mer/an_folder/lp_store_array.npy\n",
      "Read Lp from /home/yizaochen/codes/dna_rna/length_effect/find_helical_axis/gcgc_21mer/an_folder/lp_store_array.npy\n"
     ]
    },
    {
     "data": {
      "image/png": "[encoded data removed]",
      "text/plain": [
       "<Figure size 576x288 with 1 Axes>"
      ]
     },
     "metadata": {},
     "output_type": "display_data"
    }
   ],
   "source": [
    "fig, ax = plt.subplots(figsize=(8,4), facecolor=\"white\")\n",
    "ylims = (40,115)\n",
    "n_begin = 2\n",
    "n_end = 6\n",
    "\n",
    "for host in group1_hosts:\n",
    "    l_agent = LpWindows(bentna_folder, host, n_frames_per_window)\n",
    "    l_agent.read_lp_store_array()\n",
    "    x_array, mean_array, std_array = l_agent.get_nlist_mean_std_array_for_windows(n_begin, n_end)\n",
    "    ax.errorbar(x_array, mean_array, yerr=std_array, linestyle='-', marker='o', linewidth=1, \n",
    "                markersize=4, label=abbr_hosts[host], alpha=1, color=d_colors[host])\n",
    "ax.legend()\n",
    "ax.set_ylabel(r'$L_p$ (nm)')\n",
    "ax.set_xticks(x_array)\n",
    "ax.set_xlabel(\"Mode ID\")\n",
    "ax.set_ylim(ylims)\n",
    "\n",
    "plt.tight_layout()\n",
    "#plt.savefig('/home/yizaochen/Desktop/drawzone_temp/lp_1.png', dpi=150, transparent=False)\n",
    "plt.show()"
   ]
  },
  {
   "cell_type": "markdown",
   "metadata": {},
   "source": [
    "### Part 6: Plot $L_p$ for Group 2"
   ]
  },
  {
   "cell_type": "code",
   "execution_count": 19,
   "metadata": {},
   "outputs": [],
   "source": [
    "group2_hosts = ['a_tract_21mer', 'tat_21mer', 'tat_1_21mer', 'tat_2_21mer', 'tat_3_21mer', 'atat_21mer']"
   ]
  },
  {
   "cell_type": "code",
   "execution_count": 22,
   "metadata": {},
   "outputs": [
    {
     "name": "stdout",
     "output_type": "stream",
     "text": [
      "Read Lp from /home/yizaochen/codes/dna_rna/length_effect/find_helical_axis/a_tract_21mer/an_folder/lp_store_array.npy\n",
      "Read Lp from /home/yizaochen/codes/dna_rna/length_effect/find_helical_axis/tat_21mer/an_folder/lp_store_array.npy\n",
      "Read Lp from /home/yizaochen/codes/dna_rna/length_effect/find_helical_axis/tat_1_21mer/an_folder/lp_store_array.npy\n",
      "Read Lp from /home/yizaochen/codes/dna_rna/length_effect/find_helical_axis/tat_2_21mer/an_folder/lp_store_array.npy\n",
      "Read Lp from /home/yizaochen/codes/dna_rna/length_effect/find_helical_axis/tat_3_21mer/an_folder/lp_store_array.npy\n",
      "Read Lp from /home/yizaochen/codes/dna_rna/length_effect/find_helical_axis/atat_21mer/an_folder/lp_store_array.npy\n"
     ]
    },
    {
     "data": {
      "image/png": "[encoded data removed]",
      "text/plain": [
       "<Figure size 576x288 with 1 Axes>"
      ]
     },
     "metadata": {},
     "output_type": "display_data"
    }
   ],
   "source": [
    "fig, ax = plt.subplots(figsize=(8,4), facecolor=\"white\")\n",
    "ylims = (40,115)\n",
    "n_begin = 2\n",
    "n_end = 6\n",
    "\n",
    "for host in group2_hosts:\n",
    "    l_agent = LpWindows(bentna_folder, host, n_frames_per_window)\n",
    "    l_agent.read_lp_store_array()\n",
    "    x_array, mean_array, std_array = l_agent.get_nlist_mean_std_array_for_windows(n_begin, n_end)\n",
    "    ax.errorbar(x_array, mean_array, yerr=std_array, linestyle='-', marker='o', linewidth=1, \n",
    "                markersize=4, label=abbr_hosts[host], alpha=1, color=d_colors[host])\n",
    "ax.legend()\n",
    "ax.set_ylabel(r'$L_p$ (nm)')\n",
    "ax.set_xticks(x_array)\n",
    "ax.set_xlabel(\"Mode ID\")\n",
    "ax.set_ylim(ylims)\n",
    "\n",
    "plt.tight_layout()\n",
    "#plt.savefig('/home/yizaochen/Desktop/drawzone_temp/lp_2.png', dpi=150, transparent=False)\n",
    "plt.show()"
   ]
  },
  {
   "cell_type": "markdown",
   "metadata": {},
   "source": [
    "### Batch Run"
   ]
  },
  {
   "cell_type": "code",
   "execution_count": null,
   "metadata": {},
   "outputs": [],
   "source": [
    "hosts = ['g_tract_21mer', 'gcgc_21mer', 'tat_21mer', 'tat_1_21mer', 'tat_2_21mer', 'tat_3_21mer', 'atat_21mer']\n",
    "n_frames_per_window = 5000\n",
    "for host in hosts:\n",
    "    l_agent = LpWindows(bentna_folder, host, n_frames_per_window)\n",
    "    #l_agent.read_df_an()\n",
    "    #l_agent.set_split_df_list()\n",
    "    #l_agent.set_lp_store_array()\n",
    "    #l_agent.save_lp_store_array()"
   ]
  },
  {
   "cell_type": "code",
   "execution_count": null,
   "metadata": {},
   "outputs": [],
   "source": []
  }
 ],
 "metadata": {
  "kernelspec": {
   "display_name": "Python 3",
   "language": "python",
   "name": "python3"
  },
  "language_info": {
   "codemirror_mode": {
    "name": "ipython",
    "version": 3
   },
   "file_extension": ".py",
   "mimetype": "text/x-python",
   "name": "python",
   "nbconvert_exporter": "python",
   "pygments_lexer": "ipython3",
   "version": "3.8.5"
  }
 },
 "nbformat": 4,
 "nbformat_minor": 4
}
